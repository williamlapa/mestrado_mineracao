{
  "cells": [
    {
      "cell_type": "markdown",
      "metadata": {
        "id": "Fr1v1FVY3fYe"
      },
      "source": [
        "## Importação e Preparação da base"
      ]
    },
    {
      "cell_type": "code",
      "execution_count": 3,
      "metadata": {
        "colab": {
          "base_uri": "https://localhost:8080/"
        },
        "collapsed": true,
        "id": "YXIEaYpQXcOL",
        "outputId": "b5d85659-3194-40ee-db60-515b4f4e2d1f"
      },
      "outputs": [],
      "source": [
        "# %%capture\n",
        "# !pip install scikit-optimize\n",
        "# !pip install openml\n",
        "# !pip install optuna\n",
        "# !pip install neupy\n",
        "# !pip install --upgrade neupy\n",
        "# !pip install --upgrade theano\n",
        "# !pip install imbalanced-learn\n",
        "# !pip install memory_profiler"
      ]
    },
    {
      "cell_type": "code",
      "execution_count": 4,
      "metadata": {},
      "outputs": [
        {
          "name": "stdout",
          "output_type": "stream",
          "text": [
            "Ambiente local detectado.\n",
            "Instalando pacotes base...\n",
            "'numpy==1.24' já está instalado: versão 1.24.0\n",
            "'numba==0.57.1' já está instalado: versão 0.57.1\n",
            "Instalando outros pacotes...\n",
            "'scikit-optimize' já está instalado: versão 0.10.2\n",
            "'xgboost' já está instalado: versão 2.1.3\n",
            "'openml' já está instalado: versão 0.15.0\n",
            "'optuna' já está instalado: versão 4.1.0\n",
            "'imbalanced-learn' já está instalado: versão 0.12.4\n",
            "'openpyxl' já está instalado: versão 3.1.5\n",
            "'memory_profiler' já está instalado: versão 0.61.0\n",
            "'lightgbm' já está instalado: versão 4.5.0\n",
            "'GPUtil' já está instalado: versão 1.4.0\n",
            "'psutil' já está instalado: versão 6.1.0\n",
            "'seaborn' já está instalado: versão 0.13.2\n",
            "'shap' já está instalado: versão 0.46.0\n",
            "'lime' já está instalado: versão 0.2.0.1\n",
            "Atualizando 'neupy' e 'theano' no ambiente local...\n"
          ]
        }
      ],
      "source": [
        "# Verificação de pacotes\n",
        "import sys\n",
        "import subprocess\n",
        "import pkg_resources\n",
        "\n",
        "# Função para instalar pacotes, se necessário\n",
        "def install_package(package):\n",
        "    try:\n",
        "        # Verificar se o pacote já está instalado\n",
        "        dist = pkg_resources.get_distribution(package)\n",
        "        print(f\"'{package}' já está instalado: versão {dist.version}\")\n",
        "    except pkg_resources.DistributionNotFound:\n",
        "        # Instalar o pacote, se não estiver instalado\n",
        "        print(f\"Instalando '{package}'...\")\n",
        "        subprocess.check_call([sys.executable, \"-m\", \"pip\", \"install\", package])\n",
        "\n",
        "# Lista de pacotes necessários\n",
        "# Nota: NumPy é forçado para uma versão compatível antes de outras dependências\n",
        "base_packages = [\n",
        "    \"numpy==1.24\",\n",
        "    \"numba==0.57.1\"  # Forçar versão compatível com SHAP e Numba\n",
        "]\n",
        "other_packages = [\n",
        "    \"scikit-optimize\",\n",
        "    \"xgboost\",\n",
        "    \"openml\",\n",
        "    \"optuna\",\n",
        "    \"imbalanced-learn\",\n",
        "    \"openpyxl\",\n",
        "    \"memory_profiler\",\n",
        "    \"lightgbm\",\n",
        "    \"GPUtil\",\n",
        "    \"psutil\",\n",
        "    \"seaborn\",\n",
        "    \"shap\",\n",
        "    \"lime\",\n",
        "]\n",
        "\n",
        "# Verificar se está no Google Colab\n",
        "try:\n",
        "    import google.colab\n",
        "    is_colab = True\n",
        "    print(\"Detectado ambiente Google Colab.\")\n",
        "except ImportError:\n",
        "    is_colab = False\n",
        "    print(\"Ambiente local detectado.\")\n",
        "\n",
        "# Instalar pacotes de base primeiro (para evitar conflitos)\n",
        "print(\"Instalando pacotes base...\")\n",
        "for package in base_packages:\n",
        "    install_package(package)\n",
        "\n",
        "# Instalar outros pacotes\n",
        "print(\"Instalando outros pacotes...\")\n",
        "for package in other_packages:\n",
        "    if is_colab or package not in [\"neupy\", \"theano\"]:  # 'neupy' e 'theano' apenas em ambiente local\n",
        "        install_package(package)\n",
        "\n",
        "# Atualizar pacotes específicos\n",
        "if not is_colab:\n",
        "    print(\"Atualizando 'neupy' e 'theano' no ambiente local...\")\n",
        "    # Atualizar NeuPy\n",
        "    subprocess.check_call([sys.executable, \"-m\", \"pip\", \"install\", \"--upgrade\", \"neupy\"])\n",
        "    # Atualizar Theano\n",
        "    subprocess.check_call([sys.executable, \"-m\", \"pip\", \"install\", \"--upgrade\", \"theano\"])\n"
      ]
    },
    {
      "cell_type": "code",
      "execution_count": 5,
      "metadata": {
        "colab": {
          "base_uri": "https://localhost:8080/"
        },
        "id": "VLgev7DN7Fxj",
        "outputId": "8ea590a9-b498-4c23-a6a9-de54b6abb281"
      },
      "outputs": [],
      "source": [
        "%%capture\n",
        "import pandas as pd\n",
        "from scipy.io import arff\n",
        "import openml\n",
        "import matplotlib.pyplot as plt\n",
        "import seaborn as sns"
      ]
    },
    {
      "cell_type": "code",
      "execution_count": 6,
      "metadata": {
        "id": "IVNblnZP60uV"
      },
      "outputs": [],
      "source": [
        "# Definir o ID do dataset no OpenML\n",
        "dataset_id = 722\n",
        "\n",
        "# Carregar o dataset diretamente do OpenML\n",
        "dataset = openml.datasets.get_dataset(dataset_id)\n",
        "data = dataset.get_data()[0]  # Pega o DataFrame completo\n",
        "\n",
        "# Remove colunas onde todos os valores são zero: [f10-f12] e [f34-f48]\n",
        "data = data.loc[:, (data != 0).any(axis=0)]"
      ]
    },
    {
      "cell_type": "code",
      "execution_count": 7,
      "metadata": {
        "colab": {
          "base_uri": "https://localhost:8080/"
        },
        "id": "U_utNjnbIYd4",
        "outputId": "8efd3c8b-4ed8-4ea2-9ca4-e1a7ddce40f0"
      },
      "outputs": [
        {
          "data": {
            "text/plain": [
              "Index(['f1', 'f2', 'f3', 'f4', 'f5', 'f6', 'f7', 'f8', 'f9', 'f13', 'f14',\n",
              "       'f15', 'f16', 'f17', 'f18', 'f19', 'f20', 'f21', 'f22', 'f23', 'f24',\n",
              "       'f25', 'f26', 'f27', 'f28', 'f29', 'f30', 'f31', 'f32', 'f33',\n",
              "       'binaryClass'],\n",
              "      dtype='object')"
            ]
          },
          "execution_count": 7,
          "metadata": {},
          "output_type": "execute_result"
        }
      ],
      "source": [
        "data.columns"
      ]
    },
    {
      "cell_type": "code",
      "execution_count": 8,
      "metadata": {
        "colab": {
          "base_uri": "https://localhost:8080/"
        },
        "id": "idmYjA7VORc2",
        "outputId": "50ef086b-05c0-42d4-b9e0-fdffa161398f"
      },
      "outputs": [
        {
          "name": "stdout",
          "output_type": "stream",
          "text": [
            "Número de features: 30\n"
          ]
        }
      ],
      "source": [
        "# prompt: quantidade de atributos\n",
        "\n",
        "import pandas as pd\n",
        "\n",
        "# Assuming 'data' is your pandas DataFrame\n",
        "num_attributes = len(data.columns) - 1\n",
        "print(f\"Número de features: {num_attributes}\")"
      ]
    },
    {
      "cell_type": "markdown",
      "metadata": {
        "id": "85poJhhVSYzF"
      },
      "source": [
        "## Utilizando ADASYN"
      ]
    },
    {
      "cell_type": "code",
      "execution_count": 9,
      "metadata": {
        "id": "PDNh3_lUSb1E"
      },
      "outputs": [],
      "source": [
        "from sklearn.calibration import LabelEncoder\n",
        "from sklearn.model_selection import train_test_split, StratifiedKFold\n",
        "from sklearn.preprocessing import StandardScaler\n",
        "from imblearn.over_sampling import ADASYN\n",
        "import pandas as pd\n",
        "\n",
        "# Definir a variável alvo\n",
        "target_column = 'binaryClass'\n",
        "X = data.drop(columns=[target_column])\n",
        "y = data[target_column]\n",
        "\n",
        "# Supondo que y tenha as classes 'N' e 'P' como strings\n",
        "label_encoder = LabelEncoder()\n",
        "y = label_encoder.fit_transform(y)  # Converte as classes para números (0 e 1)\n",
        "\n",
        "\n",
        "# Dividir os dados em treino e teste com estratificação\n",
        "X_train, X_test, y_train, y_test = train_test_split(X, y, test_size=0.2, stratify=y, random_state=42)\n",
        "\n",
        "# Definir o StratifiedKFold com 10 folds para garantir a estratificação nas validações cruzadas\n",
        "stratified_kfold = StratifiedKFold(n_splits=10, shuffle=True, random_state=42)\n",
        "\n",
        "# Identificar colunas numéricas e ajustar o tipo de dado para float64\n",
        "numeric_features = X_train.select_dtypes(include=['uint8']).columns\n",
        "X_train[numeric_features] = X_train[numeric_features].astype('float64')\n",
        "X_test[numeric_features] = X_test[numeric_features].astype('float64')\n",
        "\n",
        "# Substituir valores ausentes pela média em cada coluna numérica\n",
        "X_train[numeric_features] = X_train[numeric_features].fillna(X_train[numeric_features].mean())\n",
        "X_test[numeric_features] = X_test[numeric_features].fillna(X_train[numeric_features].mean())\n",
        "\n",
        "# Aplicar transformação (padronização) nas colunas numéricas\n",
        "scaler = StandardScaler()\n",
        "X_train[numeric_features] = scaler.fit_transform(X_train[numeric_features])\n",
        "X_test[numeric_features] = scaler.transform(X_test[numeric_features])\n",
        "\n",
        "# Aplicar ADASYN para balancear as classes no conjunto de treino\n",
        "adasyn = ADASYN(random_state=42)\n",
        "X_train_resampled, y_train_resampled = adasyn.fit_resample(X_train, y_train)\n",
        "\n",
        "# Agora X_train_resampled e y_train_resampled estão prontos para uso em modelos com 10-fold cross-validation\n"
      ]
    },
    {
      "cell_type": "markdown",
      "metadata": {
        "id": "wJD6QN8jntDk"
      },
      "source": [
        "## Comparativo ADASYN"
      ]
    },
    {
      "cell_type": "code",
      "execution_count": 57,
      "metadata": {},
      "outputs": [
        {
          "data": {
            "image/png": "[encoded data removed]",
            "text/plain": [
              "<Figure size 1000x600 with 1 Axes>"
            ]
          },
          "metadata": {},
          "output_type": "display_data"
        }
      ],
      "source": [
        "import matplotlib.pyplot as plt\n",
        "import seaborn as sns\n",
        "import pandas as pd\n",
        "\n",
        "def plot_class_distribution(y_before, y_after, labels=['Antes do ADASYN', 'Depois do ADASYN']):\n",
        "    \"\"\"\n",
        "    Plota a distribuição das classes antes e depois do balanceamento com ADASYN.\n",
        "    \"\"\"\n",
        "    # Contar as classes antes e depois\n",
        "    class_counts_before = pd.Series(y_before).value_counts().sort_index()\n",
        "    class_counts_after = pd.Series(y_after).value_counts().sort_index()\n",
        "\n",
        "    # Criar DataFrame para plotagem\n",
        "    df = pd.DataFrame({\n",
        "        'Classes': class_counts_before.index.tolist() + class_counts_after.index.tolist(),\n",
        "        'Frequência': class_counts_before.tolist() + class_counts_after.tolist(),\n",
        "        'Conjunto': [labels[0]] * len(class_counts_before) + [labels[1]] * len(class_counts_after)\n",
        "    })\n",
        "\n",
        "    # Plotar distribuição\n",
        "    plt.figure(figsize=(10, 6))\n",
        "    sns.barplot(x='Classes', y='Frequência', hue='Conjunto', data=df, palette='viridis')\n",
        "    plt.title('Distribuição das Classes Antes e Depois do ADASYN', fontsize=14)\n",
        "    plt.xlabel('Classes', fontsize=12)\n",
        "    plt.ylabel('Frequência', fontsize=12)\n",
        "    plt.legend(title='Conjunto', fontsize=10)\n",
        "    plt.xticks(fontsize=10)\n",
        "    plt.yticks(fontsize=10)\n",
        "    plt.tight_layout()\n",
        "    \n",
        "    # Save the plot to a PNG file\n",
        "    plt.savefig('class_distribution.png', dpi=300, bbox_inches='tight')\n",
        "    \n",
        "    # Show the plot\n",
        "    plt.show()\n",
        "\n",
        "# Comparar antes e depois do ADASYN\n",
        "plot_class_distribution(y_train, y_train_resampled)"
      ]
    },
    {
      "cell_type": "markdown",
      "metadata": {
        "id": "Jgg2SmPTPfVj"
      },
      "source": [
        "## Início experimento - Variáveis Básicas\n"
      ]
    },
    {
      "cell_type": "code",
      "execution_count": 10,
      "metadata": {
        "id": "O-eiuwm5PiD5"
      },
      "outputs": [
        {
          "name": "stderr",
          "output_type": "stream",
          "text": [
            "c:\\Users\\willi\\Documents\\Projetos\\mestrado_mineracao\\venv\\Lib\\site-packages\\tqdm\\auto.py:21: TqdmWarning: IProgress not found. Please update jupyter and ipywidgets. See https://ipywidgets.readthedocs.io/en/stable/user_install.html\n",
            "  from .autonotebook import tqdm as notebook_tqdm\n"
          ]
        }
      ],
      "source": [
        "# Realizando experimento já considerando X_train_resampled e y_train_resampled\n",
        "import numpy as np\n",
        "from sklearn.naive_bayes import GaussianNB\n",
        "from sklearn.preprocessing import LabelEncoder\n",
        "import optuna\n",
        "from sklearn.linear_model import LogisticRegression\n",
        "from sklearn.neighbors import KNeighborsClassifier\n",
        "from sklearn.tree import DecisionTreeClassifier\n",
        "from sklearn.svm import SVC\n",
        "from sklearn.ensemble import RandomForestClassifier, StackingClassifier, VotingClassifier\n",
        "from sklearn.neural_network import MLPClassifier\n",
        "from xgboost import XGBClassifier\n",
        "from lightgbm import LGBMClassifier\n",
        "from sklearn.metrics import f1_score, recall_score, accuracy_score, confusion_matrix\n",
        "from sklearn.model_selection import cross_val_score, StratifiedKFold\n",
        "from skopt import BayesSearchCV\n",
        "from skopt.space import Integer, Categorical, Real\n",
        "# from neupy import algorithms\n",
        "\n",
        "# Configurar K-Fold com estratificação\n",
        "kfold = StratifiedKFold(n_splits=10, shuffle=True, random_state=42)\n",
        "\n",
        "# Definição básica dos classificadores\n",
        "knn = KNeighborsClassifier()\n",
        "lvq = MLPClassifier(solver='sgd', learning_rate='constant', learning_rate_init=0.1, max_iter=100)\n",
        "tree = DecisionTreeClassifier()\n",
        "svm = SVC(probability=True)\n",
        "rf = RandomForestClassifier()\n",
        "mlp = MLPClassifier(max_iter=100, hidden_layer_sizes=(50,))\n",
        "xgb = XGBClassifier(use_label_encoder=False, eval_metric='logloss')\n",
        "lgbm = LGBMClassifier(n_estimators=50, max_depth=3, verbose=-1) #verbose=-1 não mostra mensagens de alerta\n",
        "\n",
        "# Comitê de Redes Neurais Artificiais\n",
        "ann_ensemble = VotingClassifier(\n",
        "    estimators=[\n",
        "        ('mlp_relu', MLPClassifier(activation='relu', hidden_layer_sizes=(50, 20), max_iter=100)),\n",
        "        ('mlp_tanh', MLPClassifier(activation='tanh', hidden_layer_sizes=(50, 20), max_iter=100)),\n",
        "        ('mlp_logistic', MLPClassifier(activation='logistic', hidden_layer_sizes=(50, 20), max_iter=100))\n",
        "    ],\n",
        "    voting='soft',\n",
        "    n_jobs=-1  # Paralelização\n",
        ")\n",
        "\n",
        "# Comitê Heterogêneo (Stacking)\n",
        "stacking = StackingClassifier(\n",
        "    estimators=[\n",
        "        ('nb', GaussianNB()),  # Modelo rápido e leve\n",
        "        ('dt', DecisionTreeClassifier(max_depth=3)),  # Árvore de decisão rasa\n",
        "    ],\n",
        "    final_estimator=LogisticRegression(max_iter=100),  # Meta-modelo simples\n",
        "    n_jobs=-1\n",
        ")\n",
        "\n",
        "# Dicionário de classificadores inicial:\n",
        "classifiers = {\n",
        "    'KNN': knn,             # Bayesian Search\n",
        "    'SVM': svm,\n",
        "    'Decision Tree': tree,  # Bayesian Search\n",
        "    'LVQ': lvq,\n",
        "    'MLP': mlp,\n",
        "    'Ensemble Neural Network': ann_ensemble,\n",
        "    'Stacking': stacking,\n",
        "    'Random Forest': rf,    #Optuna\n",
        "    'XGBoost': xgb,         #Optuna\n",
        "    'LightGBM': lgbm\n",
        "}"
      ]
    },
    {
      "cell_type": "markdown",
      "metadata": {
        "id": "BAz_-U69MqPw",
        "jp-MarkdownHeadingCollapsed": true
      },
      "source": [
        "## Tunning Usando Bayesian e Optuna"
      ]
    },
    {
      "cell_type": "markdown",
      "metadata": {},
      "source": [
        "- Demora em torno de 20 minutos."
      ]
    },
    {
      "cell_type": "code",
      "execution_count": 17,
      "metadata": {
        "colab": {
          "base_uri": "https://localhost:8080/"
        },
        "id": "p3ngnvnnMtzQ",
        "outputId": "c78fc699-2f8d-47ee-efd7-5de16c4d4721"
      },
      "outputs": [
        {
          "name": "stdout",
          "output_type": "stream",
          "text": [
            "Otimizando hiperparâmetros para KNN...\n",
            "Melhores parâmetros para KNN: OrderedDict([('n_neighbors', 1), ('p', 1), ('weights', 'uniform')])\n",
            "\n",
            "Otimizando hiperparâmetros para Decision Tree...\n"
          ]
        },
        {
          "name": "stderr",
          "output_type": "stream",
          "text": [
            "[I 2024-11-29 19:48:03,197] A new study created in memory with name: no-name-826eff76-710c-478d-a669-0fbd49028c59\n"
          ]
        },
        {
          "name": "stdout",
          "output_type": "stream",
          "text": [
            "Melhores parâmetros para Decision Tree: OrderedDict([('criterion', 'entropy'), ('max_depth', 23), ('min_samples_leaf', 1), ('min_samples_split', 2)])\n",
            "\n"
          ]
        },
        {
          "name": "stderr",
          "output_type": "stream",
          "text": [
            "[I 2024-11-29 19:48:17,452] Trial 0 finished with value: 0.8992910354614712 and parameters: {'n_estimators': 193, 'max_depth': 3}. Best is trial 0 with value: 0.8992910354614712.\n",
            "[I 2024-11-29 19:48:34,052] Trial 1 finished with value: 0.9163927932440276 and parameters: {'n_estimators': 184, 'max_depth': 4}. Best is trial 1 with value: 0.9163927932440276.\n",
            "[I 2024-11-29 19:48:37,421] Trial 2 finished with value: 0.9312780786479065 and parameters: {'n_estimators': 27, 'max_depth': 6}. Best is trial 2 with value: 0.9312780786479065.\n",
            "[I 2024-11-29 19:48:44,445] Trial 3 finished with value: 0.9151254463887959 and parameters: {'n_estimators': 77, 'max_depth': 4}. Best is trial 2 with value: 0.9312780786479065.\n",
            "[I 2024-11-29 19:48:53,656] Trial 4 finished with value: 0.9137323200337766 and parameters: {'n_estimators': 101, 'max_depth': 4}. Best is trial 2 with value: 0.9312780786479065.\n",
            "[I 2024-11-29 19:48:53,658] A new study created in memory with name: no-name-2c764674-3909-4499-9c1e-2380e8ef2342\n"
          ]
        },
        {
          "name": "stdout",
          "output_type": "stream",
          "text": [
            "Melhores hiperparâmetros para Random Forest: {'n_estimators': 27, 'max_depth': 6}\n"
          ]
        },
        {
          "name": "stderr",
          "output_type": "stream",
          "text": [
            "[I 2024-11-29 19:49:02,484] Trial 0 finished with value: 0.984354860330173 and parameters: {'learning_rate': 0.010109829632956214, 'n_estimators': 162, 'max_depth': 10}. Best is trial 0 with value: 0.984354860330173.\n",
            "[I 2024-11-29 19:49:08,434] Trial 1 finished with value: 0.9374208058717434 and parameters: {'learning_rate': 0.0010674513804083954, 'n_estimators': 273, 'max_depth': 5}. Best is trial 0 with value: 0.984354860330173.\n",
            "[I 2024-11-29 19:49:13,559] Trial 2 finished with value: 0.9248158859427964 and parameters: {'learning_rate': 0.006245154718456152, 'n_estimators': 327, 'max_depth': 3}. Best is trial 0 with value: 0.984354860330173.\n",
            "[I 2024-11-29 19:49:36,831] Trial 3 finished with value: 0.9728270527864533 and parameters: {'learning_rate': 0.0013207537282401275, 'n_estimators': 453, 'max_depth': 8}. Best is trial 0 with value: 0.984354860330173.\n",
            "[I 2024-11-29 19:49:40,389] Trial 4 finished with value: 0.9800475345371884 and parameters: {'learning_rate': 0.05372742901459394, 'n_estimators': 62, 'max_depth': 7}. Best is trial 0 with value: 0.984354860330173.\n"
          ]
        },
        {
          "name": "stdout",
          "output_type": "stream",
          "text": [
            "Melhores hiperparâmetros para XGBoost: {'learning_rate': 0.010109829632956214, 'n_estimators': 162, 'max_depth': 10}\n"
          ]
        }
      ],
      "source": [
        "# Usando BS e Optuna em dois classificadores diferentes:\n",
        "\n",
        "# Filtrar warnings\n",
        "import warnings\n",
        "warnings.filterwarnings('ignore')\n",
        "import logging\n",
        "logging.getLogger('sklearn').setLevel(logging.ERROR)\n",
        "\n",
        "# Configurações para os modelos que costumam gerar warnings\n",
        "import os\n",
        "os.environ['PYTHONWARNINGS'] = 'ignore'\n",
        "\n",
        "# Configurações específicas para XGBoost\n",
        "from xgboost import set_config\n",
        "set_config(verbosity=0)\n",
        "\n",
        "# Espaços de busca para Bayesian Search: KNN e Decision Tree\n",
        "param_spaces = {\n",
        "    'KNN': {\n",
        "        'n_neighbors': (1, 30),\n",
        "        'weights': ['uniform', 'distance'],\n",
        "        'p': (1, 2)\n",
        "    },\n",
        "    'Decision Tree': {\n",
        "        'max_depth': (1, 50),\n",
        "        'min_samples_split': (2, 20),\n",
        "        'min_samples_leaf': (1, 20),\n",
        "        'criterion': ['gini', 'entropy']\n",
        "    }\n",
        "\n",
        "}\n",
        "\n",
        "# Avaliar classificadores e buscar hiperparâmetros com BayesSearchCV\n",
        "results = {}\n",
        "best_params = {}\n",
        "\n",
        "for name, clf in classifiers.items():\n",
        "    if name in param_spaces:\n",
        "        print(f\"Otimizando hiperparâmetros para {name}...\")\n",
        "        bayes_search = BayesSearchCV(\n",
        "            estimator=clf,\n",
        "            search_spaces=param_spaces[name],\n",
        "            n_iter=50,\n",
        "            cv=kfold,\n",
        "            scoring='accuracy',\n",
        "            n_jobs=-1,\n",
        "            random_state=42\n",
        "        )\n",
        "\n",
        "        # Garante que X_train_resampled seja um DataFrame com os nomes de coluna corretos\n",
        "        X_train_resampled = pd.DataFrame(X_train_resampled, columns=X_train.columns)\n",
        "\n",
        "        bayes_search.fit(X_train_resampled, y_train_resampled)\n",
        "        best_params[name] = bayes_search.best_params_\n",
        "        clf = bayes_search.best_estimator_\n",
        "        print(f\"Melhores parâmetros para {name}: {bayes_search.best_params_}\\n\")\n",
        "\n",
        "#Optuna para RF e XGB\n",
        "\n",
        "# Funções de objetivo para Optuna\n",
        "def rf_objective(trial):\n",
        "    n_estimators = trial.suggest_int(\"n_estimators\", 10, 200)\n",
        "    max_depth = trial.suggest_int(\"max_depth\", 2, 32, log=True)\n",
        "    clf = RandomForestClassifier(n_estimators=n_estimators, max_depth=max_depth)\n",
        "    return cross_val_score(clf, X_train_resampled, y_train_resampled, cv=kfold, scoring=\"accuracy\").mean()\n",
        "\n",
        "def xgb_objective(trial):\n",
        "    learning_rate = trial.suggest_float(\"learning_rate\", 1e-3, 1e-1, log=True)\n",
        "    n_estimators = trial.suggest_int(\"n_estimators\", 50, 500)\n",
        "    max_depth = trial.suggest_int(\"max_depth\", 3, 10)\n",
        "\n",
        "    # Encode the target variable to numeric values\n",
        "    le = LabelEncoder()\n",
        "    y_train_resampled_encoded = le.fit_transform(y_train_resampled)\n",
        "\n",
        "    clf = XGBClassifier(learning_rate=learning_rate, n_estimators=n_estimators,\n",
        "                        max_depth=max_depth, use_label_encoder=False, eval_metric='logloss')\n",
        "    return cross_val_score(clf, X_train_resampled, y_train_resampled_encoded, cv=kfold, scoring=\"accuracy\").mean()\n",
        "\n",
        "# Otimização com Optuna\n",
        "rf_study = optuna.create_study(direction=\"maximize\")\n",
        "rf_study.optimize(rf_objective, n_trials=5)\n",
        "classifiers['Random Forest'] = RandomForestClassifier(**rf_study.best_trial.params)\n",
        "print(\"Melhores hiperparâmetros para Random Forest:\", rf_study.best_trial.params)\n",
        "\n",
        "xgb_study = optuna.create_study(direction=\"maximize\")\n",
        "xgb_study.optimize(xgb_objective, n_trials=5)\n",
        "classifiers['XGBoost'] = XGBClassifier(**xgb_study.best_trial.params, use_label_encoder=False, eval_metric='logloss')\n",
        "print(\"Melhores hiperparâmetros para XGBoost:\", xgb_study.best_trial.params)"
      ]
    },
    {
      "cell_type": "markdown",
      "metadata": {
        "id": "-DNIIQajYi4I"
      },
      "source": [
        "## Resumo Melhores Parâmetros"
      ]
    },
    {
      "cell_type": "code",
      "execution_count": 11,
      "metadata": {
        "id": "ULFB9uENYL2-"
      },
      "outputs": [
        {
          "name": "stdout",
          "output_type": "stream",
          "text": [
            "Parâmetros do XGBoost sem valores None:\n",
            "{'objective': 'binary:logistic', 'enable_categorical': False, 'eval_metric': 'logloss', 'missing': nan, 'use_label_encoder': False}\n"
          ]
        }
      ],
      "source": [
        "# Obter os parâmetros do classificador e remover os que têm valor None\n",
        "xgb_clean_params = {k: v for k, v in classifiers['XGBoost'].get_params().items() if v is not None}\n",
        "\n",
        "# Criar um novo classificador com os parâmetros limpos\n",
        "cleaned_xgb = XGBClassifier(**xgb_clean_params)\n",
        "\n",
        "print(\"Parâmetros do XGBoost sem valores None:\")\n",
        "print(xgb_clean_params)"
      ]
    },
    {
      "cell_type": "code",
      "execution_count": 13,
      "metadata": {
        "id": "Y2Q3OKn7TAG9"
      },
      "outputs": [
        {
          "name": "stdout",
          "output_type": "stream",
          "text": [
            "Classificadores com os melhores parâmetros:\n",
            "KNN: KNeighborsClassifier(n_neighbors=1, p=1)\n",
            "SVM: SVC(probability=True)\n",
            "Decision Tree: DecisionTreeClassifier(criterion='entropy', max_depth=36)\n",
            "LVQ: MLPClassifier(learning_rate_init=0.1, max_iter=100, solver='sgd')\n",
            "MLP: MLPClassifier(hidden_layer_sizes=(50,), max_iter=100)\n",
            "Ensemble Neural Network: VotingClassifier(estimators=[('mlp_relu',\n",
            "                              MLPClassifier(hidden_layer_sizes=(50, 20),\n",
            "                                            max_iter=100)),\n",
            "                             ('mlp_tanh',\n",
            "                              MLPClassifier(activation='tanh',\n",
            "                                            hidden_layer_sizes=(50, 20),\n",
            "                                            max_iter=100)),\n",
            "                             ('mlp_logistic',\n",
            "                              MLPClassifier(activation='logistic',\n",
            "                                            hidden_layer_sizes=(50, 20),\n",
            "                                            max_iter=100))],\n",
            "                 n_jobs=-1, voting='soft')\n",
            "Stacking: StackingClassifier(estimators=[('nb', GaussianNB()),\n",
            "                               ('dt', DecisionTreeClassifier(max_depth=3))],\n",
            "                   final_estimator=LogisticRegression(), n_jobs=-1)\n",
            "Random Forest: RandomForestClassifier(max_depth=28, n_estimators=97)\n",
            "XGBoost: XGBClassifier(base_score=None, booster=None, callbacks=None,\n",
            "              colsample_bylevel=None, colsample_bynode=None,\n",
            "              colsample_bytree=None, device=None, early_stopping_rounds=None,\n",
            "              enable_categorical=False, eval_metric='logloss',\n",
            "              feature_types=None, gamma=None, grow_policy=None,\n",
            "              importance_type=None, interaction_constraints=None,\n",
            "              learning_rate=0.09504317284612004, max_bin=None,\n",
            "              max_cat_threshold=None, max_cat_to_onehot=None,\n",
            "              max_delta_step=None, max_depth=6, max_leaves=None,\n",
            "              min_child_weight=None, missing=nan, monotone_constraints=None,\n",
            "              multi_strategy=None, n_estimators=188, n_jobs=None,\n",
            "              num_parallel_tree=None, random_state=None, ...)\n",
            "LightGBM: LGBMClassifier(max_depth=3, n_estimators=50, verbose=-1)\n"
          ]
        }
      ],
      "source": [
        "# Converter parâmetros otimizados para inicializar os classificadores\n",
        "best_classifiers = {\n",
        "    'KNN': KNeighborsClassifier(n_neighbors=1, p=1, weights='uniform'), # Otimizado com Bayesian Search\n",
        "    'SVM': svm,  # Nenhuma otimização aplicada\n",
        "    'Decision Tree': DecisionTreeClassifier(criterion='entropy', max_depth=36, min_samples_leaf=1, min_samples_split=2), # Otimizado com Bayesian Search\n",
        "    'LVQ': lvq,  # Nenhuma otimização aplicada\n",
        "    'MLP': mlp,  # Nenhuma otimização aplicada\n",
        "    'Ensemble Neural Network': ann_ensemble,  # Nenhuma otimização aplicada\n",
        "    'Stacking': stacking,  # Nenhuma otimização aplicada\n",
        "    'Random Forest': RandomForestClassifier(max_depth=28, n_estimators=97), # Otimizado com Optuna\n",
        "    'XGBoost': XGBClassifier(objective='binary:logistic', enable_categorical=False, eval_metric='logloss',\n",
        "                             learning_rate=0.09504317284612004, max_depth=6, n_estimators=188),  # Otimizado com Optuna\n",
        "    'LightGBM': lgbm # Nenhuma otimização aplicada\n",
        "}\n",
        "\n",
        "# Mostrar os melhores parâmetros para os classificadores otimizados\n",
        "print(\"Classificadores com os melhores parâmetros:\")\n",
        "\n",
        "for name, model in best_classifiers.items():\n",
        "  print(f\"{name}: {model}\")"
      ]
    },
    {
      "cell_type": "markdown",
      "metadata": {
        "id": "ZsvC5TygOx46"
      },
      "source": [
        "## Avaliando os modelos após Tunning"
      ]
    },
    {
      "cell_type": "markdown",
      "metadata": {
        "id": "JREgrxR2pm5B"
      },
      "source": [
        "- Demora em torno de 20 minutos\n",
        "*   Avalia os modelos após o tunning usando Optuna e Bayesian Search (dicionário anterior)\n",
        "*   Calcula o tempo de execução e consumo de memória para cada modelo.\n",
        "\n"
      ]
    },
    {
      "cell_type": "code",
      "execution_count": 51,
      "metadata": {},
      "outputs": [],
      "source": [
        "# Definição das funções\n",
        "import time\n",
        "from memory_profiler import memory_usage\n",
        "import psutil\n",
        "import GPUtil\n",
        "import warnings\n",
        "import numpy as np\n",
        "from sklearn.metrics import accuracy_score, f1_score, recall_score, confusion_matrix\n",
        "from sklearn.model_selection import cross_validate\n",
        "\n",
        "# Filtrar warnings\n",
        "warnings.filterwarnings('ignore')\n",
        "\n",
        "# Definindo os classificadores otimizados com os melhores parâmetros\n",
        "classifiers = best_classifiers\n",
        "\n",
        "def calculate_acsa(y_true, y_pred):\n",
        "    classes = np.unique(y_true)\n",
        "    class_accuracies = [\n",
        "        accuracy_score(y_true[y_true == c], y_pred[y_true == c]) for c in classes\n",
        "    ]\n",
        "    return np.mean(class_accuracies)\n",
        "\n",
        "def get_gpu_usage():\n",
        "    \"\"\"\n",
        "    Obtém o uso da GPU se disponível.\n",
        "    \"\"\"\n",
        "    gpus = GPUtil.getGPUs()\n",
        "    if not gpus:\n",
        "        return 0  # Sem GPU disponível\n",
        "    return sum([gpu.load for gpu in gpus]) / len(gpus) * 100  # Média de uso em %\n",
        "\n",
        "def evaluate_model(model, X, y, kfold):\n",
        "    \"\"\"\n",
        "    Avalia o modelo com métricas de desempenho e recursos computacionais (tempo, memória, CPU e GPU).\n",
        "    \"\"\"\n",
        "\n",
        "    # Converter para array numpy se for DataFrame/Series\n",
        "    X_numpy = X.values if hasattr(X, 'values') else X\n",
        "    y_numpy = y.values if hasattr(y, 'values') else y\n",
        "\n",
        "    # Iniciar medição de tempo, memória, CPU e GPU\n",
        "    start_time = time.time()\n",
        "    mem_usage_start = memory_usage()[0]\n",
        "    cpu_start = psutil.cpu_percent(interval=None)\n",
        "    gpu_start = get_gpu_usage()\n",
        "\n",
        "    # Usar cross_validate para calcular accuracy, f1 e recall em uma única chamada\n",
        "    scoring = ['accuracy', 'f1', 'recall']\n",
        "    scores = cross_validate(model, X_numpy, y_numpy, cv=kfold, scoring=scoring, return_estimator=True)\n",
        "\n",
        "    # Calcular tempo, memória, CPU e GPU após validação cruzada\n",
        "    training_time = time.time() - start_time\n",
        "    mem_usage_end = memory_usage()[0]\n",
        "    memory_consumed = mem_usage_end - mem_usage_start\n",
        "    cpu_end = psutil.cpu_percent(interval=None)\n",
        "    gpu_end = get_gpu_usage()\n",
        "\n",
        "    # Calcular média de uso de CPU e GPU\n",
        "    cpu_usage = (cpu_end + cpu_start) / 2\n",
        "    gpu_usage = (gpu_end + gpu_start) / 2\n",
        "\n",
        "    # Métricas médias da validação cruzada\n",
        "    accuracy = scores['test_accuracy'].mean()\n",
        "    f1 = scores['test_f1'].mean()\n",
        "    recall = scores['test_recall'].mean()\n",
        "\n",
        "    # Cálculo do ACSA manualmente\n",
        "    acsa_scores = []\n",
        "    for estimator, (train_idx, val_idx) in zip(scores['estimator'], kfold.split(X_numpy, y_numpy)):\n",
        "        X_val_fold = X_numpy[val_idx]\n",
        "        y_val_fold = y_numpy[val_idx]\n",
        "        y_pred_fold = estimator.predict(X_val_fold)\n",
        "        acsa_scores.append(calculate_acsa(y_val_fold, y_pred_fold))\n",
        "    acsa = np.mean(acsa_scores)\n",
        "\n",
        "    # Ajustar modelo nos dados completos e calcular a matriz de confusão\n",
        "    model.fit(X_numpy, y_numpy)\n",
        "    y_pred = model.predict(X_numpy)\n",
        "    conf_matrix = confusion_matrix(y_numpy, y_pred)\n",
        "\n",
        "    return accuracy, f1, recall, acsa, conf_matrix, training_time, memory_consumed, cpu_usage, gpu_usage\n"
      ]
    },
    {
      "cell_type": "code",
      "execution_count": 24,
      "metadata": {
        "id": "SjxnZ3mO_K-g"
      },
      "outputs": [
        {
          "name": "stdout",
          "output_type": "stream",
          "text": [
            "KNN - Accuracy: 0.9791, F1 Score: 0.9789, Recall: 0.9592, ACSA: 0.9793, Training Time (s): 2.7135, Memory Usage (MB): 35.5039, CPU Usage (%): 19.75, GPU Usage (%): 0.00\n",
            "Confusion Matrix:\n",
            "[[7821    0]\n",
            " [   0 7967]]\n",
            "\n",
            "SVM - Accuracy: 0.9680, F1 Score: 0.9673, Recall: 0.9386, ACSA: 0.9683, Training Time (s): 239.5132, Memory Usage (MB): -158.7734, CPU Usage (%): 29.15, GPU Usage (%): 0.00\n",
            "Confusion Matrix:\n",
            "[[7814    7]\n",
            " [ 461 7506]]\n",
            "\n",
            "Decision Tree - Accuracy: 0.9844, F1 Score: 0.9845, Recall: 0.9803, ACSA: 0.9845, Training Time (s): 1.8928, Memory Usage (MB): 3.8828, CPU Usage (%): 14.60, GPU Usage (%): 0.00\n",
            "Confusion Matrix:\n",
            "[[7821    0]\n",
            " [   0 7967]]\n",
            "\n",
            "LVQ - Accuracy: 0.9935, F1 Score: 0.9936, Recall: 0.9908, ACSA: 0.9936, Training Time (s): 68.5304, Memory Usage (MB): -36.6211, CPU Usage (%): 10.35, GPU Usage (%): 0.00\n",
            "Confusion Matrix:\n",
            "[[7817    4]\n",
            " [  22 7945]]\n",
            "\n",
            "MLP - Accuracy: 0.9902, F1 Score: 0.9902, Recall: 0.9843, ACSA: 0.9902, Training Time (s): 40.8061, Memory Usage (MB): 1.2891, CPU Usage (%): 22.20, GPU Usage (%): 0.00\n",
            "Confusion Matrix:\n",
            "[[7804   17]\n",
            " [  66 7901]]\n",
            "\n",
            "Ensemble Neural Network - Accuracy: 0.9942, F1 Score: 0.9942, Recall: 0.9900, ACSA: 0.9942, Training Time (s): 155.9444, Memory Usage (MB): -54.4570, CPU Usage (%): 19.65, GPU Usage (%): 0.00\n",
            "Confusion Matrix:\n",
            "[[7820    1]\n",
            " [  10 7957]]\n",
            "\n",
            "Stacking - Accuracy: 0.8867, F1 Score: 0.8892, Recall: 0.9030, ACSA: 0.8865, Training Time (s): 4.5069, Memory Usage (MB): 11.9648, CPU Usage (%): 18.70, GPU Usage (%): 0.00\n",
            "Confusion Matrix:\n",
            "[[6682 1139]\n",
            " [ 598 7369]]\n",
            "\n",
            "Random Forest - Accuracy: 0.9909, F1 Score: 0.9910, Recall: 0.9859, ACSA: 0.9910, Training Time (s): 25.3181, Memory Usage (MB): 43.5391, CPU Usage (%): 14.25, GPU Usage (%): 0.00\n",
            "Confusion Matrix:\n",
            "[[7821    0]\n",
            " [   0 7967]]\n",
            "\n",
            "XGBoost - Accuracy: 0.9908, F1 Score: 0.9908, Recall: 0.9853, ACSA: 0.9909, Training Time (s): 7.0045, Memory Usage (MB): 28.5703, CPU Usage (%): 52.10, GPU Usage (%): 0.00\n",
            "Confusion Matrix:\n",
            "[[7819    2]\n",
            " [  15 7952]]\n",
            "\n",
            "LightGBM - Accuracy: 0.9457, F1 Score: 0.9442, Recall: 0.9101, ACSA: 0.9461, Training Time (s): 1.6499, Memory Usage (MB): -4.1836, CPU Usage (%): 60.90, GPU Usage (%): 0.00\n",
            "Confusion Matrix:\n",
            "[[7712  109]\n",
            " [ 709 7258]]\n",
            "\n"
          ]
        }
      ],
      "source": [
        "# Uso do código\n",
        "results = {}\n",
        "for name, clf in best_classifiers.items():\n",
        "    # Avaliar desempenho do classificador\n",
        "    accuracy, f1, recall, acsa, conf_matrix, training_time, memory_consumed, cpu_usage, gpu_usage = evaluate_model(clf, X_train_resampled, y_train_resampled, kfold)\n",
        "\n",
        "    results[name] = {\n",
        "        'Accuracy': accuracy,\n",
        "        'F1 Score': f1,\n",
        "        'Recall': recall,\n",
        "        'ACSA': acsa,\n",
        "        'Training Time (s)': training_time,\n",
        "        'Memory Usage (MB)': memory_consumed,\n",
        "        'CPU Usage (%)': cpu_usage,\n",
        "        'GPU Usage (%)': gpu_usage,\n",
        "        'Confusion Matrix': conf_matrix\n",
        "    }\n",
        "\n",
        "    print(f\"{name} - Accuracy: {accuracy:.4f}, F1 Score: {f1:.4f}, Recall: {recall:.4f}, ACSA: {acsa:.4f}, Training Time (s): {training_time:.4f}, Memory Usage (MB): {memory_consumed:.4f}, CPU Usage (%): {cpu_usage:.2f}, GPU Usage (%): {gpu_usage:.2f}\")\n",
        "    print(f\"Confusion Matrix:\\n{conf_matrix}\\n\")\n"
      ]
    },
    {
      "cell_type": "code",
      "execution_count": 21,
      "metadata": {
        "id": "1PwfWABKthgx"
      },
      "outputs": [
        {
          "data": {
            "text/html": [
              "<div>\n",
              "<style scoped>\n",
              "    .dataframe tbody tr th:only-of-type {\n",
              "        vertical-align: middle;\n",
              "    }\n",
              "\n",
              "    .dataframe tbody tr th {\n",
              "        vertical-align: top;\n",
              "    }\n",
              "\n",
              "    .dataframe thead th {\n",
              "        text-align: right;\n",
              "    }\n",
              "</style>\n",
              "<table border=\"1\" class=\"dataframe\">\n",
              "  <thead>\n",
              "    <tr style=\"text-align: right;\">\n",
              "      <th></th>\n",
              "      <th>Accuracy</th>\n",
              "      <th>F1 Score</th>\n",
              "      <th>Recall</th>\n",
              "      <th>ACSA</th>\n",
              "      <th>Training Time (s)</th>\n",
              "      <th>Memory Usage (MB)</th>\n",
              "      <th>CPU Usage (%)</th>\n",
              "      <th>GPU Usage (%)</th>\n",
              "      <th>Confusion Matrix</th>\n",
              "    </tr>\n",
              "  </thead>\n",
              "  <tbody>\n",
              "    <tr>\n",
              "      <th>KNN</th>\n",
              "      <td>0.979098</td>\n",
              "      <td>0.978856</td>\n",
              "      <td>0.959209</td>\n",
              "      <td>0.979285</td>\n",
              "      <td>4.140716</td>\n",
              "      <td>35.933594</td>\n",
              "      <td>44.90</td>\n",
              "      <td>0.0</td>\n",
              "      <td>[[7821, 0], [0, 7967]]</td>\n",
              "    </tr>\n",
              "    <tr>\n",
              "      <th>SVM</th>\n",
              "      <td>0.968014</td>\n",
              "      <td>0.967327</td>\n",
              "      <td>0.938623</td>\n",
              "      <td>0.968288</td>\n",
              "      <td>247.687245</td>\n",
              "      <td>55.996094</td>\n",
              "      <td>28.25</td>\n",
              "      <td>0.0</td>\n",
              "      <td>[[7814, 7], [461, 7506]]</td>\n",
              "    </tr>\n",
              "    <tr>\n",
              "      <th>Decision Tree</th>\n",
              "      <td>0.983975</td>\n",
              "      <td>0.984058</td>\n",
              "      <td>0.980167</td>\n",
              "      <td>0.984011</td>\n",
              "      <td>1.791338</td>\n",
              "      <td>2.535156</td>\n",
              "      <td>14.75</td>\n",
              "      <td>0.0</td>\n",
              "      <td>[[7821, 0], [0, 7967]]</td>\n",
              "    </tr>\n",
              "    <tr>\n",
              "      <th>LVQ</th>\n",
              "      <td>0.994046</td>\n",
              "      <td>0.994080</td>\n",
              "      <td>0.990837</td>\n",
              "      <td>0.994076</td>\n",
              "      <td>92.532249</td>\n",
              "      <td>-47.816406</td>\n",
              "      <td>7.00</td>\n",
              "      <td>0.0</td>\n",
              "      <td>[[7816, 5], [20, 7947]]</td>\n",
              "    </tr>\n",
              "    <tr>\n",
              "      <th>MLP</th>\n",
              "      <td>0.990309</td>\n",
              "      <td>0.990342</td>\n",
              "      <td>0.984687</td>\n",
              "      <td>0.990362</td>\n",
              "      <td>46.456718</td>\n",
              "      <td>28.582031</td>\n",
              "      <td>20.85</td>\n",
              "      <td>0.0</td>\n",
              "      <td>[[7813, 8], [61, 7906]]</td>\n",
              "    </tr>\n",
              "    <tr>\n",
              "      <th>Ensemble Neural Network</th>\n",
              "      <td>0.994236</td>\n",
              "      <td>0.994266</td>\n",
              "      <td>0.990336</td>\n",
              "      <td>0.994273</td>\n",
              "      <td>124.469784</td>\n",
              "      <td>-121.117188</td>\n",
              "      <td>21.70</td>\n",
              "      <td>0.0</td>\n",
              "      <td>[[7820, 1], [16, 7951]]</td>\n",
              "    </tr>\n",
              "    <tr>\n",
              "      <th>Stacking</th>\n",
              "      <td>0.886687</td>\n",
              "      <td>0.889236</td>\n",
              "      <td>0.902975</td>\n",
              "      <td>0.886532</td>\n",
              "      <td>4.123944</td>\n",
              "      <td>-16.515625</td>\n",
              "      <td>27.70</td>\n",
              "      <td>0.0</td>\n",
              "      <td>[[6682, 1139], [598, 7369]]</td>\n",
              "    </tr>\n",
              "    <tr>\n",
              "      <th>Random Forest</th>\n",
              "      <td>0.991069</td>\n",
              "      <td>0.991104</td>\n",
              "      <td>0.986192</td>\n",
              "      <td>0.991114</td>\n",
              "      <td>22.565561</td>\n",
              "      <td>59.781250</td>\n",
              "      <td>20.65</td>\n",
              "      <td>0.0</td>\n",
              "      <td>[[7821, 0], [0, 7967]]</td>\n",
              "    </tr>\n",
              "    <tr>\n",
              "      <th>XGBoost</th>\n",
              "      <td>0.990816</td>\n",
              "      <td>0.990845</td>\n",
              "      <td>0.985313</td>\n",
              "      <td>0.990867</td>\n",
              "      <td>5.662494</td>\n",
              "      <td>61.640625</td>\n",
              "      <td>54.05</td>\n",
              "      <td>0.0</td>\n",
              "      <td>[[7819, 2], [15, 7952]]</td>\n",
              "    </tr>\n",
              "    <tr>\n",
              "      <th>LightGBM</th>\n",
              "      <td>0.945718</td>\n",
              "      <td>0.944180</td>\n",
              "      <td>0.910131</td>\n",
              "      <td>0.946052</td>\n",
              "      <td>1.145050</td>\n",
              "      <td>1.058594</td>\n",
              "      <td>65.15</td>\n",
              "      <td>0.0</td>\n",
              "      <td>[[7712, 109], [709, 7258]]</td>\n",
              "    </tr>\n",
              "  </tbody>\n",
              "</table>\n",
              "</div>"
            ],
            "text/plain": [
              "                         Accuracy  F1 Score    Recall      ACSA  \\\n",
              "KNN                      0.979098  0.978856  0.959209  0.979285   \n",
              "SVM                      0.968014  0.967327  0.938623  0.968288   \n",
              "Decision Tree            0.983975  0.984058  0.980167  0.984011   \n",
              "LVQ                      0.994046  0.994080  0.990837  0.994076   \n",
              "MLP                      0.990309  0.990342  0.984687  0.990362   \n",
              "Ensemble Neural Network  0.994236  0.994266  0.990336  0.994273   \n",
              "Stacking                 0.886687  0.889236  0.902975  0.886532   \n",
              "Random Forest            0.991069  0.991104  0.986192  0.991114   \n",
              "XGBoost                  0.990816  0.990845  0.985313  0.990867   \n",
              "LightGBM                 0.945718  0.944180  0.910131  0.946052   \n",
              "\n",
              "                         Training Time (s)  Memory Usage (MB)  CPU Usage (%)  \\\n",
              "KNN                               4.140716          35.933594          44.90   \n",
              "SVM                             247.687245          55.996094          28.25   \n",
              "Decision Tree                     1.791338           2.535156          14.75   \n",
              "LVQ                              92.532249         -47.816406           7.00   \n",
              "MLP                              46.456718          28.582031          20.85   \n",
              "Ensemble Neural Network         124.469784        -121.117188          21.70   \n",
              "Stacking                          4.123944         -16.515625          27.70   \n",
              "Random Forest                    22.565561          59.781250          20.65   \n",
              "XGBoost                           5.662494          61.640625          54.05   \n",
              "LightGBM                          1.145050           1.058594          65.15   \n",
              "\n",
              "                         GPU Usage (%)             Confusion Matrix  \n",
              "KNN                                0.0       [[7821, 0], [0, 7967]]  \n",
              "SVM                                0.0     [[7814, 7], [461, 7506]]  \n",
              "Decision Tree                      0.0       [[7821, 0], [0, 7967]]  \n",
              "LVQ                                0.0      [[7816, 5], [20, 7947]]  \n",
              "MLP                                0.0      [[7813, 8], [61, 7906]]  \n",
              "Ensemble Neural Network            0.0      [[7820, 1], [16, 7951]]  \n",
              "Stacking                           0.0  [[6682, 1139], [598, 7369]]  \n",
              "Random Forest                      0.0       [[7821, 0], [0, 7967]]  \n",
              "XGBoost                            0.0      [[7819, 2], [15, 7952]]  \n",
              "LightGBM                           0.0   [[7712, 109], [709, 7258]]  "
            ]
          },
          "execution_count": 21,
          "metadata": {},
          "output_type": "execute_result"
        }
      ],
      "source": [
        "# Exibir resultados\n",
        "import pandas as pd\n",
        "df_results = pd.DataFrame.from_dict(results, orient='index')\n",
        "\n",
        "# Salvar em Excel\n",
        "df_results.to_excel('results_with_cost_benefit.xlsx')\n",
        "\n",
        "# Apresentar\n",
        "df_results"
      ]
    },
    {
      "cell_type": "markdown",
      "metadata": {
        "id": "5lroaa666bSO"
      },
      "source": [
        "## Comparando Antes e Depois ADASYN"
      ]
    },
    {
      "cell_type": "markdown",
      "metadata": {
        "id": "777Kseeu6ljM"
      },
      "source": [
        "Comparando os desempenhos do treinamento dos classificadores KNN e Árvore de Decisão antes e depois de aplicar o balanceamento de classes usando a técnica ADASYN."
      ]
    },
    {
      "cell_type": "code",
      "execution_count": 52,
      "metadata": {
        "id": "gSeHtMSE616z"
      },
      "outputs": [
        {
          "name": "stdout",
          "output_type": "stream",
          "text": [
            "      Classifier   Phase  Accuracy  F1 Score    Recall      ACSA\n",
            "0            KNN   Antes  0.964083  0.972762  0.966113  0.963098\n",
            "1            KNN  Depois  0.979098  0.978856  0.959209  0.979285\n",
            "2  Decision Tree   Antes  0.978917  0.984123  0.983934  0.976472\n",
            "3  Decision Tree  Depois  0.985305  0.985389  0.981800  0.985338\n",
            "4            MLP   Antes  0.988250  0.991168  0.992720  0.986071\n",
            "5            MLP  Depois  0.989993  0.990028  0.984561  0.990043\n"
          ]
        }
      ],
      "source": [
        "# Classificadores após o Tunning\n",
        "\n",
        "adasyn_classifiers = {\n",
        "    'KNN': KNeighborsClassifier(n_neighbors=1, p=1, weights='uniform'), # Otimizado com Bayesian Search\n",
        "    'Decision Tree': DecisionTreeClassifier(criterion='entropy', max_depth=36, min_samples_leaf=1, min_samples_split=2), # Otimizado com Bayesian Search\n",
        "    'MLP': mlp  # Nenhuma otimização aplicada\n",
        "}\n",
        "\n",
        "# Dicionário para armazenar os resultados\n",
        "results_adasyn = {\n",
        "    'Classifier': [],\n",
        "    'Phase': [],  # 'Antes' ou 'Depois' o balanceamento\n",
        "    'Accuracy': [],\n",
        "    'F1 Score': [],\n",
        "    'Recall': [],\n",
        "    'ACSA': []\n",
        "}\n",
        "\n",
        "# Iterando no dicionário de classificadores\n",
        "for name, clf in adasyn_classifiers.items():\n",
        "    # Avaliação antes do balanceamento\n",
        "    accuracy, f1, recall, acsa, conf_matrix, training_time, memory_consumed, cpu_usage, gpu_usage = evaluate_model(clf, X_train, y_train, kfold)\n",
        "    results_adasyn['Classifier'].append(name)\n",
        "    results_adasyn['Phase'].append('Antes')\n",
        "    results_adasyn['Accuracy'].append(accuracy)\n",
        "    results_adasyn['F1 Score'].append(f1)\n",
        "    results_adasyn['Recall'].append(recall)\n",
        "    results_adasyn['ACSA'].append(acsa)\n",
        "\n",
        "    # Avaliação após o balanceamento\n",
        "    accuracy, f1, recall, acsa, conf_matrix, training_time, memory_consumed, cpu_usage, gpu_usage = evaluate_model(clf, X_train_resampled, y_train_resampled, kfold)\n",
        "    results_adasyn['Classifier'].append(name)\n",
        "    results_adasyn['Phase'].append('Depois')\n",
        "    results_adasyn['Accuracy'].append(accuracy)\n",
        "    results_adasyn['F1 Score'].append(f1)\n",
        "    results_adasyn['Recall'].append(recall)\n",
        "    results_adasyn['ACSA'].append(acsa)\n",
        "\n",
        "# Conversão para um DataFrame\n",
        "df_results_adasyn = pd.DataFrame(results_adasyn)\n",
        "\n",
        "# Exibição do DataFrame\n",
        "print(df_results_adasyn)\n",
        "\n",
        "# Salvar o DataFrame em um arquivo Excel\n",
        "df_results_adasyn.to_excel('results_adasyn_comparison.xlsx', index=False)\n"
      ]
    },
    {
      "cell_type": "markdown",
      "metadata": {
        "id": "Ik5UYhwsLZEL"
      },
      "source": [
        "## Desempenho Treino e Teste após Tunning"
      ]
    },
    {
      "cell_type": "markdown",
      "metadata": {},
      "source": [
        "- Demora 20 minutos"
      ]
    },
    {
      "cell_type": "code",
      "execution_count": 29,
      "metadata": {
        "id": "aHAjbN64Leno"
      },
      "outputs": [
        {
          "name": "stdout",
          "output_type": "stream",
          "text": [
            "                 Classifier        Etapa  Accuracy  F1 Score    Recall  \\\n",
            "0                       KNN  Treinamento  0.979098  0.978856  0.959209   \n",
            "1                       KNN        Teste  0.942667  0.956500  0.950807   \n",
            "2                       SVM  Treinamento  0.968014  0.967327  0.938623   \n",
            "3                       SVM        Teste  0.948000  0.961662  0.980925   \n",
            "4             Decision Tree  Treinamento  0.984609  0.984690  0.980921   \n",
            "5             Decision Tree        Teste  0.962333  0.971685  0.973379   \n",
            "6                       LVQ  Treinamento  0.994490  0.994522  0.991339   \n",
            "7                       LVQ        Teste  0.978667  0.984041  0.988457   \n",
            "8                       MLP  Treinamento  0.989803  0.989829  0.983558   \n",
            "9                       MLP        Teste  0.973000  0.979826  0.986952   \n",
            "10  Ensemble Neural Network  Treinamento  0.994173  0.994204  0.990336   \n",
            "11  Ensemble Neural Network        Teste  0.974333  0.980810  0.987952   \n",
            "12                 Stacking  Treinamento  0.886687  0.889236  0.902975   \n",
            "13                 Stacking        Teste  0.921667  0.941995  0.957332   \n",
            "14            Random Forest  Treinamento  0.990752  0.990790  0.985691   \n",
            "15            Random Forest        Teste  0.967000  0.975527  0.988457   \n",
            "16                  XGBoost  Treinamento  0.990816  0.990845  0.985313   \n",
            "17                  XGBoost        Teste  0.977667  0.983267  0.987450   \n",
            "18                 LightGBM  Treinamento  0.945718  0.944180  0.910131   \n",
            "19                 LightGBM        Teste  0.952667  0.964626  0.971894   \n",
            "\n",
            "        ACSA  \n",
            "0   0.979285  \n",
            "1   0.938715  \n",
            "2   0.968288  \n",
            "3   0.931913  \n",
            "4   0.984643  \n",
            "5   0.956927  \n",
            "6   0.994519  \n",
            "7   0.973887  \n",
            "8   0.989861  \n",
            "9   0.966189  \n",
            "10  0.994209  \n",
            "11  0.967689  \n",
            "12  0.886532  \n",
            "13  0.904255  \n",
            "14  0.990800  \n",
            "15  0.956516  \n",
            "16  0.990867  \n",
            "17  0.972893  \n",
            "18  0.946052  \n",
            "19  0.943284  \n"
          ]
        }
      ],
      "source": [
        "# Converter parâmetros otimizados para inicializar os classificadores\n",
        "best_classifiers = {\n",
        "    'KNN': KNeighborsClassifier(n_neighbors=1, p=1, weights='uniform'), # Otimizado com Bayesian Search\n",
        "    'SVM': svm,  # Nenhuma otimização aplicada\n",
        "    'Decision Tree': DecisionTreeClassifier(criterion='entropy', max_depth=36, min_samples_leaf=1, min_samples_split=2), # Otimizado com Bayesian Search\n",
        "    'LVQ': lvq,  # Nenhuma otimização aplicada\n",
        "    'MLP': mlp,  # Nenhuma otimização aplicada\n",
        "    'Ensemble Neural Network': ann_ensemble,  # Nenhuma otimização aplicada\n",
        "    'Stacking': stacking,  # Nenhuma otimização aplicada\n",
        "    'Random Forest': RandomForestClassifier(max_depth=28, n_estimators=97), # Otimizado com Optuna\n",
        "    'XGBoost': XGBClassifier(objective='binary:logistic', enable_categorical=False, eval_metric='logloss',\n",
        "                             learning_rate=0.09504317284612004, max_depth=6, n_estimators=188),  # Otimizado com Optuna\n",
        "    'LightGBM': lgbm # Nenhuma otimização aplicada\n",
        "}\n",
        "\n",
        "# Configurar K-Fold com estratificação\n",
        "kfold = StratifiedKFold(n_splits=10, shuffle=True, random_state=42)\n",
        "\n",
        "# Dicionário para armazenar os resultados\n",
        "results_train_teste = {\n",
        "    'Classifier': [],\n",
        "    'Etapa': [],  # 'Antes' ou 'Depois' o balanceamento\n",
        "    'Accuracy': [],\n",
        "    'F1 Score': [],\n",
        "    'Recall': [],\n",
        "    'ACSA': []\n",
        "}\n",
        "\n",
        "# Iterando no dicionário de classificadores\n",
        "for name, clf in best_classifiers.items():\n",
        "    # Avaliação antes do balanceamento\n",
        "    accuracy, f1, recall, acsa, conf_matrix, training_time, memory_consumed, cpu_usage, gpu_usage = evaluate_model(clf, X_train_resampled, y_train_resampled, kfold)\n",
        "    results_train_teste['Classifier'].append(name)\n",
        "    results_train_teste['Etapa'].append('Treinamento')\n",
        "    results_train_teste['Accuracy'].append(accuracy)\n",
        "    results_train_teste['F1 Score'].append(f1)\n",
        "    results_train_teste['Recall'].append(recall)\n",
        "    results_train_teste['ACSA'].append(acsa)\n",
        "\n",
        "    # Avaliação após o balanceamento\n",
        "    accuracy, f1, recall, acsa, conf_matrix, training_time, memory_consumed, cpu_usage, gpu_usage = evaluate_model(clf, X_test, y_test, kfold)\n",
        "    results_train_teste['Classifier'].append(name)\n",
        "    results_train_teste['Etapa'].append('Teste')\n",
        "    results_train_teste['Accuracy'].append(accuracy)\n",
        "    results_train_teste['F1 Score'].append(f1)\n",
        "    results_train_teste['Recall'].append(recall)\n",
        "    results_train_teste['ACSA'].append(acsa)\n",
        "\n",
        "# Conversão para um DataFrame\n",
        "df_results_train_teste = pd.DataFrame(results_train_teste)\n",
        "\n",
        "# Exibição do DataFrame\n",
        "print(df_results_train_teste)\n",
        "\n",
        "# Salvar o DataFrame em um arquivo Excel\n",
        "df_results_train_teste.to_excel('results_train_teste_comparison.xlsx', index=False)\n",
        "\n"
      ]
    },
    {
      "cell_type": "markdown",
      "metadata": {
        "id": "RGeDInlGjm2L"
      },
      "source": [
        "## Amostra para análise Estatística"
      ]
    },
    {
      "cell_type": "code",
      "execution_count": null,
      "metadata": {
        "colab": {
          "base_uri": "https://localhost:8080/",
          "height": 211
        },
        "id": "uTcxxjHKk6Oo",
        "outputId": "4b89cc82-d8e0-451c-d5a7-2abb6d4328fe"
      },
      "outputs": [],
      "source": [
        "import warnings\n",
        "import logging\n",
        "import os\n",
        "import numpy as np\n",
        "import pandas as pd\n",
        "from sklearn.model_selection import cross_validate, StratifiedKFold\n",
        "from sklearn.metrics import accuracy_score, f1_score, recall_score, confusion_matrix\n",
        "from xgboost import set_config\n",
        "\n",
        "# Filtrar warnings\n",
        "warnings.filterwarnings('ignore')\n",
        "logging.getLogger('sklearn').setLevel(logging.ERROR)\n",
        "os.environ['PYTHONWARNINGS'] = 'ignore'\n",
        "set_config(verbosity=0)\n",
        "\n",
        "# Definindo os classificadores otimizados com os melhores parâmetros\n",
        "classifiers = best_classifiers\n",
        "\n",
        "def calculate_acsa(y_true, y_pred):\n",
        "    \"\"\"Calcula o Average Class-Specific Accuracy (ACSA).\"\"\"\n",
        "    classes = np.unique(y_true)\n",
        "    class_accuracies = [\n",
        "        accuracy_score(y_true[y_true == c], y_pred[y_true == c]) for c in classes\n",
        "    ]\n",
        "    return np.mean(class_accuracies)\n",
        "\n",
        "def evaluate_model(model, X, y, kfold, n_samples=10):\n",
        "    \"\"\"\n",
        "    Avalia o modelo usando validação cruzada múltiplas vezes.\n",
        "    Args:\n",
        "    model: Modelo de classificação\n",
        "    X: Features (DataFrame ou array)\n",
        "    y: Target (Series ou array)\n",
        "    kfold: Objeto de validação cruzada\n",
        "    n_samples: Número de iterações de avaliação\n",
        "    \"\"\"\n",
        "    # Converter para numpy arrays se necessário\n",
        "    X_numpy = X.values if hasattr(X, 'values') else np.array(X)\n",
        "    y_numpy = y.values if hasattr(y, 'values') else np.array(y)\n",
        "    results = {\n",
        "        'Accuracy': [],\n",
        "        'F1 Score': [],\n",
        "        'Recall': [],\n",
        "        'ACSA': [],\n",
        "        'Confusion Matrix': []\n",
        "    }\n",
        "    for sample in range(n_samples):\n",
        "        try:\n",
        "            # Realizando a validação cruzada\n",
        "            scores = cross_validate(\n",
        "                model,\n",
        "                X_numpy,\n",
        "                y_numpy,\n",
        "                cv=kfold,\n",
        "                scoring=['accuracy', 'f1', 'recall'],\n",
        "                return_estimator=True,\n",
        "                n_jobs=-1 # Usar todos os cores disponíveis\n",
        "            )\n",
        "            # Métricas médias da validação cruzada\n",
        "            results['Accuracy'].append(scores['test_accuracy'].mean())\n",
        "            results['F1 Score'].append(scores['test_f1'].mean())\n",
        "            results['Recall'].append(scores['test_recall'].mean())\n",
        "            # Cálculo do ACSA\n",
        "            acsa_scores = []\n",
        "            for estimator, (_, val_idx) in zip(scores['estimator'], kfold.split(X_numpy, y_numpy)):\n",
        "                X_val = X_numpy[val_idx]\n",
        "                y_val = y_numpy[val_idx]\n",
        "                y_pred = estimator.predict(X_val)\n",
        "                acsa_scores.append(calculate_acsa(y_val, y_pred))\n",
        "            results['ACSA'].append(np.mean(acsa_scores))\n",
        "            # Matriz de confusão usando o último modelo ajustado\n",
        "            model.fit(X_numpy, y_numpy)\n",
        "            y_pred_final = model.predict(X_numpy)\n",
        "            results['Confusion Matrix'].append(confusion_matrix(y_numpy, y_pred_final))\n",
        "        except Exception as e:\n",
        "            print(f\"Erro na amostra {sample}: {str(e)}\")\n",
        "            continue\n",
        "    return results\n",
        "\n",
        "def print_results(results_dict):\n",
        "    \"\"\"Imprime os resultados de forma organizada e gera DataFrames.\"\"\"\n",
        "    metrics_dfs = {metric: pd.DataFrame() for metric in ['Accuracy', 'F1 Score', 'Recall', 'ACSA']}\n",
        "\n",
        "    for name, metrics in results_dict.items():\n",
        "        print(f\"\\n{'='*50}\")\n",
        "        print(f\"Resultados para {name}:\")\n",
        "        print(f\"{'='*50}\")\n",
        "        # Métricas numéricas\n",
        "        for metric in ['Accuracy', 'F1 Score', 'Recall', 'ACSA']:\n",
        "            values = metrics[metric]\n",
        "            if values: # Verifica se há valores\n",
        "                print(f\"\\n{metric}:\")\n",
        "                for value in values:\n",
        "                    print(f\" {value:.4f}\")\n",
        "                # Adiciona os resultados ao DataFrame correspondente\n",
        "                metrics_dfs[metric][name] = values\n",
        "\n",
        "    # Retorna os DataFrames\n",
        "    return metrics_dfs\n",
        "\n",
        "def save_to_excel(metrics_dfs, filename='metrics_results.xlsx'):\n",
        "    \"\"\"Salva os DataFrames em uma planilha Excel, com cada aba representando uma métrica distinta.\"\"\"\n",
        "    with pd.ExcelWriter(filename) as writer:\n",
        "        for metric, df in metrics_dfs.items():\n",
        "            df.to_excel(writer, sheet_name=metric)\n",
        "\n",
        "# Uso do código\n",
        "if __name__ == \"__main__\":\n",
        "    # Definindo a validação cruzada\n",
        "    kfold = StratifiedKFold(n_splits=10, shuffle=True, random_state=None)\n",
        "    # Inicializando resultados\n",
        "    results = {}\n",
        "    # Avaliando cada classificador\n",
        "    for name, clf in classifiers.items():\n",
        "        print(f\"\\nAvaliando {name}...\")\n",
        "        results[name] = evaluate_model(\n",
        "            clf,\n",
        "            X_train_resampled,\n",
        "            y_train_resampled,\n",
        "            kfold,\n",
        "            n_samples=10\n",
        "        )\n",
        "    # Imprimindo resultados e gerando DataFrames\n",
        "    metrics_dfs = print_results(results)\n",
        "\n",
        "    # Salvando os DataFrames em uma planilha Excel\n",
        "    save_to_excel(metrics_dfs)\n",
        "\n",
        "    # Exemplo de como acessar os DataFrames\n",
        "    accuracy_df = metrics_dfs['Accuracy']\n",
        "    f1_score_df = metrics_dfs['F1 Score']\n",
        "    recall_df = metrics_dfs['Recall']\n",
        "    acsa_df = metrics_dfs['ACSA']"
      ]
    },
    {
      "cell_type": "code",
      "execution_count": null,
      "metadata": {
        "id": "0WVIGz29R7P_"
      },
      "outputs": [],
      "source": [
        "save_to_excel(metrics_dfs)"
      ]
    },
    {
      "cell_type": "markdown",
      "metadata": {
        "id": "LOm8zAO4KJLA"
      },
      "source": [
        "## Teste de Estresse novos dados"
      ]
    },
    {
      "cell_type": "markdown",
      "metadata": {},
      "source": [
        "### Gerando dados sintéticos"
      ]
    },
    {
      "cell_type": "code",
      "execution_count": 17,
      "metadata": {
        "id": "hspEQcvVNI7l"
      },
      "outputs": [
        {
          "name": "stdout",
          "output_type": "stream",
          "text": [
            "Exemplo de dados sintéticos:\n",
            "         f1        f2        f3        f4        f5        f6        f7  \\\n",
            "0 -3.269112  3.513117 -0.529201 -0.932867  0.536414 -2.790119 -0.869287   \n",
            "1  4.321401 -1.526260 -0.692351 -1.781169 -0.273729 -1.907548 -0.659039   \n",
            "2 -2.211783 -4.441093  0.051198 -1.974622 -0.213457  0.847032 -0.501784   \n",
            "3 -4.923394  4.344866 -2.132596  0.117327  1.452617 -1.079046  1.012637   \n",
            "4  4.372500 -2.568167 -0.385022 -1.694910 -0.936506 -0.958699  0.382989   \n",
            "\n",
            "         f8        f9       f13  ...       f24       f25       f26       f27  \\\n",
            "0 -3.719915 -0.211384  1.033881  ...  2.644457  0.907962  0.123480 -0.798858   \n",
            "1  1.883620  0.392634 -0.014270  ...  1.787822  0.097827  0.436006 -0.417870   \n",
            "2 -1.866255 -0.048089  0.496199  ...  2.296966  0.511500  1.935154  0.051362   \n",
            "3 -1.152980  1.352203 -0.916321  ...  3.351479 -0.140375  0.307613  0.959610   \n",
            "4  0.100247 -0.606865 -0.667780  ... -4.048788 -0.187329 -2.238231 -1.220818   \n",
            "\n",
            "        f28       f29       f30       f31       f32       f33  \n",
            "0 -0.852225 -1.174514  2.275825  5.605097 -1.551209  0.009613  \n",
            "1  0.479508  3.028572  0.050228  2.044662  0.917148  1.601615  \n",
            "2 -0.627313  0.991862  1.180641  1.013767 -4.379881 -1.364261  \n",
            "3 -1.315816  2.031906 -1.435910  0.315642 -1.017634 -4.803853  \n",
            "4 -0.526248  0.022906 -0.499730 -0.634299  0.881883  2.908487  \n",
            "\n",
            "[5 rows x 30 columns]\n",
            "\n",
            "Distribuição das classes:\n",
            "target\n",
            "1    100\n",
            "0    100\n",
            "Name: count, dtype: int64\n"
          ]
        }
      ],
      "source": [
        "# Gerar Dados Sintéticos\n",
        "from sklearn.datasets import make_classification\n",
        "\n",
        "def generate_synthetic_data(n_samples=200, n_features=30, n_informative=10, n_redundant=5, feature_names=None, random_state=42):\n",
        "    \"\"\"\n",
        "    Gera dados sintéticos para teste de estresse de classificadores.\n",
        "\n",
        "    Args:\n",
        "    n_samples (int): Número de amostras.\n",
        "    n_features (int): Número total de características.\n",
        "    n_informative (int): Número de características informativas.\n",
        "    n_redundant (int): Número de características redundantes.\n",
        "    feature_names (list): Lista de nomes para as colunas geradas.\n",
        "    random_state (int): Semente para reprodutibilidade.\n",
        "\n",
        "    Returns:\n",
        "    X_synthetic (DataFrame): Dados de entrada sintéticos.\n",
        "    y_synthetic (Series): Classes correspondentes.\n",
        "    \"\"\"\n",
        "    # Gerar dados\n",
        "    X, y = make_classification(\n",
        "        n_samples=n_samples,\n",
        "        n_features=n_features,\n",
        "        n_informative=n_informative,\n",
        "        n_redundant=n_redundant,\n",
        "        n_classes=2,\n",
        "        flip_y=0.1,  # Introduzir ruído\n",
        "        class_sep=0.8,  # Reduzir separação entre classes para maior desafio\n",
        "        random_state=random_state\n",
        "    )\n",
        "\n",
        "    # Converter para DataFrame\n",
        "    if feature_names is None:\n",
        "        feature_names = [f\"feature_{i}\" for i in range(1, n_features + 1)]\n",
        "    X_synthetic = pd.DataFrame(X, columns=feature_names)\n",
        "    y_synthetic = pd.Series(y, name=\"target\")\n",
        "\n",
        "    return X_synthetic, y_synthetic\n",
        "\n",
        "# Gerar dados sintéticos com os mesmos nomes de colunas dos dados de treinamento\n",
        "X_synthetic, y_synthetic = generate_synthetic_data(\n",
        "    n_samples=200,\n",
        "    n_features=X_train_resampled.shape[1],\n",
        "    n_informative=10,\n",
        "    n_redundant=5,\n",
        "    feature_names=X_train_resampled.columns.tolist()\n",
        ")\n",
        "\n",
        "# Visualizar os dados gerados\n",
        "print(\"Exemplo de dados sintéticos:\")\n",
        "print(X_synthetic.head())\n",
        "print(\"\\nDistribuição das classes:\")\n",
        "print(y_synthetic.value_counts())\n"
      ]
    },
    {
      "cell_type": "markdown",
      "metadata": {},
      "source": [
        "### Teste de Estresse com os dados Sintéticos"
      ]
    },
    {
      "cell_type": "code",
      "execution_count": 18,
      "metadata": {},
      "outputs": [
        {
          "name": "stdout",
          "output_type": "stream",
          "text": [
            "Iniciando teste de estresse nos modelos...\n",
            "Testando modelo: KNN...\n",
            "O modelo KNN não está ajustado. Treinando com dados fornecidos...\n",
            "Testando modelo: SVM...\n",
            "O modelo SVM não está ajustado. Treinando com dados fornecidos...\n"
          ]
        },
        {
          "name": "stderr",
          "output_type": "stream",
          "text": [
            "c:\\Users\\willi\\Documents\\Projetos\\mestrado_mineracao\\venv\\Lib\\site-packages\\sklearn\\metrics\\_classification.py:1531: UndefinedMetricWarning: Precision is ill-defined and being set to 0.0 in labels with no predicted samples. Use `zero_division` parameter to control this behavior.\n",
            "  _warn_prf(average, modifier, f\"{metric.capitalize()} is\", len(result))\n",
            "c:\\Users\\willi\\Documents\\Projetos\\mestrado_mineracao\\venv\\Lib\\site-packages\\sklearn\\metrics\\_classification.py:1531: UndefinedMetricWarning: Precision is ill-defined and being set to 0.0 in labels with no predicted samples. Use `zero_division` parameter to control this behavior.\n",
            "  _warn_prf(average, modifier, f\"{metric.capitalize()} is\", len(result))\n"
          ]
        },
        {
          "name": "stdout",
          "output_type": "stream",
          "text": [
            "Testando modelo: Decision Tree...\n",
            "O modelo Decision Tree não está ajustado. Treinando com dados fornecidos...\n",
            "Testando modelo: LVQ...\n",
            "O modelo LVQ não está ajustado. Treinando com dados fornecidos...\n"
          ]
        },
        {
          "name": "stderr",
          "output_type": "stream",
          "text": [
            "c:\\Users\\willi\\Documents\\Projetos\\mestrado_mineracao\\venv\\Lib\\site-packages\\sklearn\\neural_network\\_multilayer_perceptron.py:690: ConvergenceWarning: Stochastic Optimizer: Maximum iterations (100) reached and the optimization hasn't converged yet.\n",
            "  warnings.warn(\n"
          ]
        },
        {
          "name": "stdout",
          "output_type": "stream",
          "text": [
            "Testando modelo: MLP...\n",
            "O modelo MLP não está ajustado. Treinando com dados fornecidos...\n"
          ]
        },
        {
          "name": "stderr",
          "output_type": "stream",
          "text": [
            "c:\\Users\\willi\\Documents\\Projetos\\mestrado_mineracao\\venv\\Lib\\site-packages\\sklearn\\neural_network\\_multilayer_perceptron.py:690: ConvergenceWarning: Stochastic Optimizer: Maximum iterations (100) reached and the optimization hasn't converged yet.\n",
            "  warnings.warn(\n"
          ]
        },
        {
          "name": "stdout",
          "output_type": "stream",
          "text": [
            "Testando modelo: Ensemble Neural Network...\n",
            "O modelo Ensemble Neural Network não está ajustado. Treinando com dados fornecidos...\n",
            "Testando modelo: Stacking...\n",
            "O modelo Stacking não está ajustado. Treinando com dados fornecidos...\n"
          ]
        },
        {
          "name": "stderr",
          "output_type": "stream",
          "text": [
            "c:\\Users\\willi\\Documents\\Projetos\\mestrado_mineracao\\venv\\Lib\\site-packages\\sklearn\\metrics\\_classification.py:1531: UndefinedMetricWarning: Precision is ill-defined and being set to 0.0 in labels with no predicted samples. Use `zero_division` parameter to control this behavior.\n",
            "  _warn_prf(average, modifier, f\"{metric.capitalize()} is\", len(result))\n",
            "c:\\Users\\willi\\Documents\\Projetos\\mestrado_mineracao\\venv\\Lib\\site-packages\\sklearn\\metrics\\_classification.py:1531: UndefinedMetricWarning: Precision is ill-defined and being set to 0.0 in labels with no predicted samples. Use `zero_division` parameter to control this behavior.\n",
            "  _warn_prf(average, modifier, f\"{metric.capitalize()} is\", len(result))\n"
          ]
        },
        {
          "name": "stdout",
          "output_type": "stream",
          "text": [
            "Testando modelo: Random Forest...\n",
            "O modelo Random Forest não está ajustado. Treinando com dados fornecidos...\n",
            "Testando modelo: XGBoost...\n",
            "O modelo XGBoost não está ajustado. Treinando com dados fornecidos...\n",
            "Testando modelo: LightGBM...\n",
            "O modelo LightGBM não está ajustado. Treinando com dados fornecidos...\n",
            "Testes concluídos.\n",
            "Resultados exportados para 'results_stress_test.xlsx'.\n"
          ]
        },
        {
          "data": {
            "text/plain": [
              "(                    Modelo  Acurácia  ACSa  Precisão  Recall  F1-Score  \\\n",
              " 2            Decision Tree      57.0  57.0     59.59    57.0     53.88   \n",
              " 7            Random Forest      57.0  57.0     61.86    57.0     52.09   \n",
              " 8                  XGBoost      57.0  57.0     58.33    57.0     55.21   \n",
              " 3                      LVQ      56.5  56.5     57.41    56.5     55.13   \n",
              " 4                      MLP      55.5  55.5     56.01    55.5     54.54   \n",
              " 5  Ensemble Neural Network      55.5  55.5     55.54    55.5     55.41   \n",
              " 9                 LightGBM      55.0  55.0     55.57    55.0     53.82   \n",
              " 0                      KNN      51.5  51.5     51.64    51.5     50.46   \n",
              " 1                      SVM      50.0  50.0     25.00    50.0     33.33   \n",
              " 6                 Stacking      50.0  50.0     25.00    50.0     33.33   \n",
              " \n",
              "    Total_Amostras  \n",
              " 2             200  \n",
              " 7             200  \n",
              " 8             200  \n",
              " 3             200  \n",
              " 4             200  \n",
              " 5             200  \n",
              " 9             200  \n",
              " 0             200  \n",
              " 1             200  \n",
              " 6             200  ,\n",
              "                     Modelo  Precisão  Recall  F1-Score  Quantidade_Amostras  \\\n",
              " 5  Ensemble Neural Network     56.04    51.0     53.40                  100   \n",
              " 4                      MLP     57.75    41.0     47.95                  100   \n",
              " 3                      LVQ     60.00    39.0     47.27                  100   \n",
              " 9                 LightGBM     57.35    39.0     46.43                  100   \n",
              " 0                      KNN     52.11    37.0     43.27                  100   \n",
              " 8                  XGBoost     61.67    37.0     46.25                  100   \n",
              " 2            Decision Tree     64.58    31.0     41.89                  100   \n",
              " 7            Random Forest     69.44    25.0     36.76                  100   \n",
              " 1                      SVM      0.00     0.0      0.00                  100   \n",
              " 6                 Stacking      0.00     0.0      0.00                  100   \n",
              " \n",
              "    Proporção_Amostras  \n",
              " 5                50.0  \n",
              " 4                50.0  \n",
              " 3                50.0  \n",
              " 9                50.0  \n",
              " 0                50.0  \n",
              " 8                50.0  \n",
              " 2                50.0  \n",
              " 7                50.0  \n",
              " 1                50.0  \n",
              " 6                50.0  ,\n",
              "                     Modelo  Precisão  Recall  F1-Score  Quantidade_Amostras  \\\n",
              " 1                      SVM     50.00   100.0     66.67                  100   \n",
              " 6                 Stacking     50.00   100.0     66.67                  100   \n",
              " 7            Random Forest     54.27    89.0     67.42                  100   \n",
              " 2            Decision Tree     54.61    83.0     65.87                  100   \n",
              " 8                  XGBoost     55.00    77.0     64.17                  100   \n",
              " 3                      LVQ     54.81    74.0     62.98                  100   \n",
              " 9                 LightGBM     53.79    71.0     61.21                  100   \n",
              " 4                      MLP     54.26    70.0     61.14                  100   \n",
              " 0                      KNN     51.16    66.0     57.64                  100   \n",
              " 5  Ensemble Neural Network     55.05    60.0     57.42                  100   \n",
              " \n",
              "    Proporção_Amostras  \n",
              " 1                50.0  \n",
              " 6                50.0  \n",
              " 7                50.0  \n",
              " 2                50.0  \n",
              " 8                50.0  \n",
              " 3                50.0  \n",
              " 9                50.0  \n",
              " 4                50.0  \n",
              " 0                50.0  \n",
              " 5                50.0  )"
            ]
          },
          "execution_count": 18,
          "metadata": {},
          "output_type": "execute_result"
        }
      ],
      "source": [
        "from sklearn.exceptions import NotFittedError\n",
        "import pandas as pd\n",
        "import numpy as np\n",
        "from sklearn.metrics import accuracy_score, precision_score, recall_score, f1_score\n",
        "\n",
        "\n",
        "def stress_test_models(best_classifiers, X_synthetic, y_synthetic, X_train=None, y_train=None, export_excel=True):\n",
        "    \"\"\"\n",
        "    Realiza testes de estresse nos modelos e gera relatório em Excel com 3 abas, incluindo a métrica ACSa.\n",
        "    \n",
        "    Parameters:\n",
        "    -----------\n",
        "    best_classifiers : dict\n",
        "        Dicionário contendo os modelos treinados\n",
        "    X_synthetic : array-like\n",
        "        Dados sintéticos de features\n",
        "    y_synthetic : array-like\n",
        "        Labels sintéticos correspondentes\n",
        "    X_train : array-like, optional\n",
        "        Dados de treinamento para treinar o modelo caso não esteja ajustado.\n",
        "    y_train : array-like, optional\n",
        "        Labels de treinamento para treinar o modelo caso não esteja ajustado.\n",
        "    export_excel : bool, optional\n",
        "        Se True, exporta os resultados para um arquivo Excel.\n",
        "    \"\"\"\n",
        "    print(\"Iniciando teste de estresse nos modelos...\")\n",
        "\n",
        "    # Dicionários para resultados\n",
        "    results_geral = {\n",
        "        'Modelo': [],\n",
        "        'Acurácia': [],\n",
        "        'ACSa': [],\n",
        "        'Precisão': [],\n",
        "        'Recall': [],\n",
        "        'F1-Score': [],\n",
        "        'Total_Amostras': []\n",
        "    }\n",
        "\n",
        "    results_classe_0 = {\n",
        "        'Modelo': [],\n",
        "        'Precisão': [],\n",
        "        'Recall': [],\n",
        "        'F1-Score': [],\n",
        "        'Quantidade_Amostras': [],\n",
        "        'Proporção_Amostras': []\n",
        "    }\n",
        "\n",
        "    results_classe_1 = {\n",
        "        'Modelo': [],\n",
        "        'Precisão': [],\n",
        "        'Recall': [],\n",
        "        'F1-Score': [],\n",
        "        'Quantidade_Amostras': [],\n",
        "        'Proporção_Amostras': []\n",
        "    }\n",
        "\n",
        "    for nome_modelo, modelo in best_classifiers.items():\n",
        "        print(f\"Testando modelo: {nome_modelo}...\")\n",
        "        try:\n",
        "            # Verifica se o modelo está treinado\n",
        "            y_pred = modelo.predict(X_synthetic)\n",
        "        except NotFittedError:\n",
        "            if X_train is not None and y_train is not None:\n",
        "                print(f\"O modelo {nome_modelo} não está ajustado. Treinando com dados fornecidos...\")\n",
        "                modelo.fit(X_train, y_train)\n",
        "                y_pred = modelo.predict(X_synthetic)\n",
        "            else:\n",
        "                print(f\"O modelo {nome_modelo} não está ajustado e não foram fornecidos dados de treinamento.\")\n",
        "                continue\n",
        "\n",
        "        # Métricas gerais\n",
        "        accuracy = accuracy_score(y_synthetic, y_pred)\n",
        "        precision = precision_score(y_synthetic, y_pred, average='weighted')\n",
        "        recall = recall_score(y_synthetic, y_pred, average='weighted')\n",
        "        f1 = f1_score(y_synthetic, y_pred, average='weighted')\n",
        "\n",
        "        # Métricas por classe\n",
        "        precision_per_class = precision_score(y_synthetic, y_pred, average=None)\n",
        "        recall_per_class = recall_score(y_synthetic, y_pred, average=None)\n",
        "        f1_per_class = f1_score(y_synthetic, y_pred, average=None)\n",
        "        amostras_por_classe = dict(zip(*np.unique(y_synthetic, return_counts=True)))\n",
        "        total_amostras = len(y_synthetic)\n",
        "\n",
        "        # Cálculo da ACSa\n",
        "        acsa = sum(\n",
        "            (amostras_por_classe.get(classe, 0) / total_amostras) * recall_per_class[idx]\n",
        "            for idx, classe in enumerate([0, 1])\n",
        "        )\n",
        "\n",
        "        # Adicionar resultados gerais\n",
        "        results_geral['Modelo'].append(nome_modelo)\n",
        "        results_geral['Acurácia'].append(round(accuracy * 100, 2))\n",
        "        results_geral['ACSa'].append(round(acsa * 100, 2))\n",
        "        results_geral['Precisão'].append(round(precision * 100, 2))\n",
        "        results_geral['Recall'].append(round(recall * 100, 2))\n",
        "        results_geral['F1-Score'].append(round(f1 * 100, 2))\n",
        "        results_geral['Total_Amostras'].append(total_amostras)\n",
        "\n",
        "        # Resultados Classe 0\n",
        "        results_classe_0['Modelo'].append(nome_modelo)\n",
        "        results_classe_0['Precisão'].append(round(precision_per_class[0] * 100, 2))\n",
        "        results_classe_0['Recall'].append(round(recall_per_class[0] * 100, 2))\n",
        "        results_classe_0['F1-Score'].append(round(f1_per_class[0] * 100, 2))\n",
        "        results_classe_0['Quantidade_Amostras'].append(amostras_por_classe.get(0, 0))\n",
        "        results_classe_0['Proporção_Amostras'].append(\n",
        "            round(amostras_por_classe.get(0, 0) / total_amostras * 100, 2)\n",
        "        )\n",
        "\n",
        "        # Resultados Classe 1\n",
        "        results_classe_1['Modelo'].append(nome_modelo)\n",
        "        results_classe_1['Precisão'].append(round(precision_per_class[1] * 100, 2))\n",
        "        results_classe_1['Recall'].append(round(recall_per_class[1] * 100, 2))\n",
        "        results_classe_1['F1-Score'].append(round(f1_per_class[1] * 100, 2))\n",
        "        results_classe_1['Quantidade_Amostras'].append(amostras_por_classe.get(1, 0))\n",
        "        results_classe_1['Proporção_Amostras'].append(\n",
        "            round(amostras_por_classe.get(1, 0) / total_amostras * 100, 2)\n",
        "        )\n",
        "\n",
        "    # Criar DataFrames\n",
        "    df_geral = pd.DataFrame(results_geral).sort_values('Acurácia', ascending=False)\n",
        "    df_classe_0 = pd.DataFrame(results_classe_0).sort_values('Recall', ascending=False)\n",
        "    df_classe_1 = pd.DataFrame(results_classe_1).sort_values('Recall', ascending=False)\n",
        "\n",
        "    print(\"Testes concluídos.\")\n",
        "    \n",
        "    # Exportar para Excel\n",
        "    if export_excel:\n",
        "        with pd.ExcelWriter('results_stress_test.xlsx', engine='openpyxl') as writer:\n",
        "            df_geral.to_excel(writer, sheet_name='Geral', index=False)\n",
        "            df_classe_0.to_excel(writer, sheet_name='Classe_0', index=False)\n",
        "            df_classe_1.to_excel(writer, sheet_name='Classe_1', index=False)\n",
        "        print(\"Resultados exportados para 'results_stress_test.xlsx'.\")\n",
        "\n",
        "    return df_geral, df_classe_0, df_classe_1\n",
        "\n",
        "\n",
        "stress_test_models(best_classifiers, X_synthetic, y_synthetic, X_train_resampled, y_train_resampled, export_excel=True)"
      ]
    },
    {
      "cell_type": "markdown",
      "metadata": {},
      "source": [
        "## Explainable AI (XAi)"
      ]
    },
    {
      "cell_type": "markdown",
      "metadata": {},
      "source": [
        "Vamos usar o SHAP para explicar o modelo Random Forest e o LIME para explicar o modelo XGBoost, que são dois dos modelos com bons desepenhos desempenho segundo a planilha \"results_with_cost_benefit\"."
      ]
    },
    {
      "cell_type": "markdown",
      "metadata": {},
      "source": [
        "### Exemplo de Explicação com LIME no KNN"
      ]
    },
    {
      "cell_type": "code",
      "execution_count": 18,
      "metadata": {},
      "outputs": [
        {
          "name": "stderr",
          "output_type": "stream",
          "text": [
            "c:\\Users\\willi\\Documents\\Projetos\\mestrado_mineracao\\venv\\Lib\\site-packages\\sklearn\\base.py:493: UserWarning: X does not have valid feature names, but KNeighborsClassifier was fitted with feature names\n",
            "  warnings.warn(\n"
          ]
        },
        {
          "data": {
            "image/png": "[encoded data removed]",
            "text/plain": [
              "<Figure size 640x480 with 1 Axes>"
            ]
          },
          "metadata": {},
          "output_type": "display_data"
        },
        {
          "name": "stdout",
          "output_type": "stream",
          "text": [
            "Características mais importantes:\n"
          ]
        },
        {
          "data": {
            "text/plain": [
              "[('f18 > 0.56', 0.19134676180963045),\n",
              " ('f19 > 0.05', 0.17309889764467776),\n",
              " ('f23 > -0.28', 0.15008134824199745),\n",
              " ('f24 > -0.22', 0.12790222350683683),\n",
              " ('f20 <= -0.34', -0.123199570598381),\n",
              " ('f21 <= -0.33', -0.10624026176109132),\n",
              " ('f32 <= -0.16', -0.10258550463657153),\n",
              " ('-0.51 < f5 <= -0.02', -0.1005305780676653),\n",
              " ('f16 <= -0.62', -0.0734604329643231),\n",
              " ('f28 <= -0.18', -0.06802477594586111)]"
            ]
          },
          "execution_count": 18,
          "metadata": {},
          "output_type": "execute_result"
        }
      ],
      "source": [
        "import lime\n",
        "import lime.lime_tabular\n",
        "from sklearn.neighbors import KNeighborsClassifier\n",
        "import matplotlib.pyplot as plt\n",
        "from IPython.display import display, Image\n",
        "\n",
        "# Criar e treinar o modelo KNN com os parâmetros especificados\n",
        "knn = KNeighborsClassifier(n_neighbors=1, p=1)\n",
        "knn.fit(X_train_resampled, y_train_resampled)\n",
        "\n",
        "# Criar o explainer do LIME\n",
        "explainer = lime.lime_tabular.LimeTabularExplainer(\n",
        "    training_data=X_train_resampled.values,\n",
        "    feature_names=X_train_resampled.columns,\n",
        "    class_names=['N', 'P'],  # Ajuste conforme suas classes\n",
        "    mode='classification'\n",
        ")\n",
        "\n",
        "# Explicar uma previsão específica (por exemplo, a primeira instância do conjunto de teste)\n",
        "i = 0  # Índice da instância a ser explicada\n",
        "exp = explainer.explain_instance(X_test.iloc[i].values, knn.predict_proba)\n",
        "\n",
        "# Gerar a figura com os resultados do LIME\n",
        "fig = exp.as_pyplot_figure(label=1)  # label=1 para a classe positiva\n",
        "plt.tight_layout()\n",
        "\n",
        "# Salvar a figura\n",
        "plt.savefig('lime_results_knn.png', dpi=300, bbox_inches='tight')\n",
        "\n",
        "# Mostrar a figura na célula de saída\n",
        "display(fig)\n",
        "plt.close()\n",
        "\n",
        "# Mostrar as características mais importantes\n",
        "print(\"Características mais importantes:\")\n",
        "exp.as_list()\n"
      ]
    },
    {
      "cell_type": "markdown",
      "metadata": {},
      "source": [
        "### Exemplo de Explicação com LIME no XGBoost"
      ]
    },
    {
      "cell_type": "code",
      "execution_count": 17,
      "metadata": {},
      "outputs": [
        {
          "data": {
            "image/png": "[encoded data removed]",
            "text/plain": [
              "<Figure size 640x480 with 1 Axes>"
            ]
          },
          "metadata": {},
          "output_type": "display_data"
        },
        {
          "name": "stdout",
          "output_type": "stream",
          "text": [
            "Características mais importantes:\n"
          ]
        },
        {
          "data": {
            "text/plain": [
              "[('f7 > -0.17', 0.28890294069423805),\n",
              " ('f9 <= -0.23', -0.243480981505991),\n",
              " ('f8 > -0.25', 0.20524317922394622),\n",
              " ('-0.51 < f5 <= -0.02', -0.20105222651310767),\n",
              " ('-0.21 < f6 <= 0.53', -0.1333152963525255),\n",
              " ('f30 <= -0.16', 0.03752083715134139),\n",
              " ('f19 > 0.05', 0.03341920403043324),\n",
              " ('f25 > -0.20', -0.027230660445697066),\n",
              " ('f29 <= -0.17', 0.02672091824616491),\n",
              " ('-0.62 < f14 <= -0.57', -0.021320557716004815)]"
            ]
          },
          "execution_count": 17,
          "metadata": {},
          "output_type": "execute_result"
        }
      ],
      "source": [
        "import lime\n",
        "import lime.lime_tabular\n",
        "from xgboost import XGBClassifier\n",
        "import matplotlib.pyplot as plt\n",
        "from IPython.display import display, Image\n",
        "\n",
        "# Criar e treinar o modelo XGBoost com os parâmetros especificados\n",
        "model_xgb = XGBClassifier(n_estimators=188)\n",
        "model_xgb.fit(X_train_resampled, y_train_resampled)\n",
        "\n",
        "# Criar o explainer do LIME\n",
        "explainer = lime.lime_tabular.LimeTabularExplainer(\n",
        "    training_data=X_train_resampled.values,\n",
        "    feature_names=X_train_resampled.columns,\n",
        "    class_names=['N', 'P'],  # Ajuste conforme suas classes\n",
        "    mode='classification'\n",
        ")\n",
        "\n",
        "# Explicar uma previsão específica (por exemplo, a primeira instância do conjunto de teste)\n",
        "i = 0  # Índice da instância a ser explicada\n",
        "exp = explainer.explain_instance(X_test.iloc[i].values, model_xgb.predict_proba)\n",
        "\n",
        "# Gerar a figura com os resultados do LIME\n",
        "fig = exp.as_pyplot_figure(label=1)  # label=1 para a classe positiva\n",
        "plt.tight_layout()\n",
        "\n",
        "# Salvar a figura\n",
        "plt.savefig('lime_results_xgboost.png', dpi=300, bbox_inches='tight')\n",
        "\n",
        "# Mostrar a figura na célula de saída\n",
        "display(fig)\n",
        "plt.close()\n",
        "\n",
        "# Mostrar as características mais importantes\n",
        "print(\"Características mais importantes:\")\n",
        "exp.as_list()"
      ]
    },
    {
      "cell_type": "markdown",
      "metadata": {},
      "source": [
        "Este resultado do LIME (Local Interpretable Model-agnostic Explanations) fornece uma explicação local para uma previsão específica feita por um modelo de machine learning. \n",
        "\n",
        "Cada linha representa uma característica (feature) e sua contribuição para a previsão do modelo para uma instância particular. \n",
        "\n",
        "Vamos analisar os componentes principais:\n",
        "\n",
        "1) Interpretação das Características\n",
        "\n",
        "1. **f7 > -0.17** (0.2757): Esta é a característica mais influente. Quando f7 é maior que -0.17, isso aumenta a probabilidade da previsão em aproximadamente 27.57%.\n",
        "\n",
        "2. **f9 <= -0.23** (-0.2419): A segunda característica mais importante. Quando f9 é menor ou igual a -0.23, isso diminui a probabilidade da previsão em cerca de 24.19%.\n",
        "\n",
        "3. **-0.51 < f5 <= -0.02** (-0.1910): Quando f5 está entre -0.51 e -0.02, isso reduz a probabilidade da previsão em aproximadamente 19.10%.\n",
        "\n",
        "4. **f8 > -0.25** (0.1803): Se f8 é maior que -0.25, isso aumenta a probabilidade da previsão em cerca de 18.03%.\n",
        "\n",
        "5. **-0.21 < f6 <= 0.53** (-0.1404): Quando f6 está entre -0.21 e 0.53, isso diminui a probabilidade da previsão em aproximadamente 14.04%.\n",
        "\n",
        "2) Características Menos Influentes\n",
        "\n",
        "As características restantes (f21, f25, f27, f22, f24) têm um impacto menor na previsão, com contribuições absolutas abaixo de 0.05 ou 5%.\n",
        "\n",
        "3) Observações Gerais\n",
        "\n",
        "- Os valores positivos indicam que a característica aumenta a probabilidade da previsão, enquanto os negativos a diminuem.\n",
        "- As características estão ordenadas por magnitude de impacto, do mais influente ao menos influente.\n",
        "- O LIME criou intervalos para algumas características contínuas (por exemplo, f5 e f6), o que pode ajudar a interpretar melhor o comportamento do modelo em diferentes faixas de valores.\n"
      ]
    },
    {
      "cell_type": "markdown",
      "metadata": {
        "id": "Ht5NaQt7eJ-C"
      },
      "source": [
        "# Roteiro"
      ]
    },
    {
      "cell_type": "markdown",
      "metadata": {
        "id": "rBsbCN7EdMOY"
      },
      "source": [
        "- Registro dos resultados em **dataframe** (FEITO)\n",
        "- Visualização de Resultados: Gráficos de caixa (boxplot), barras, etc. (A FAZER)\n",
        "- Análise Estatística: Relatório de classificação e testes de significância estatística. (FEITO)\n",
        "- Aplicar o protocolo utilizado de comparação de classificadores de Janez Demsar.(FEITO)\n",
        "- Apresentar desempenhos de treinamento e teste para todos os modelos. (FEITO)\n",
        "- Análise de Custo-Benefício: Avaliar os recursos computacionais utilizados por cada modelo (tempo de processamento e memória) em relação ao desempenho alcançado. (FEITO)\n",
        "- Teste de Estresse dos Modelos: Realizar testes com dados novos e desconhecidos para avaliar a robustez dos modelos. (FEITO)\n",
        "- Métricas de Complexidade do Modelo: Avaliar a complexidade dos modelos, como número de parâmetros e tempo de inferência. (FEITO)\n",
        "- Explainable AI (XAI): Explicar as previsões de pelo menos dois dos modelos utilizando ferramentas de XAI, como SHAP ou LIME, para aumentar a compreensão sobre os fatores que influenciam as decisões dos modelos. Escolher o melhor modelo a partir da comparação estatística realizada para aplicar o XAI. (FEITO)"
      ]
    },
    {
      "cell_type": "code",
      "execution_count": null,
      "metadata": {
        "id": "0c70u2REOBdF"
      },
      "outputs": [],
      "source": []
    }
  ],
  "metadata": {
    "accelerator": "GPU",
    "colab": {
      "collapsed_sections": [
        "wJD6QN8jntDk",
        "5lroaa666bSO",
        "RGeDInlGjm2L"
      ],
      "gpuType": "T4",
      "provenance": [],
      "toc_visible": true
    },
    "kernelspec": {
      "display_name": "venv",
      "language": "python",
      "name": "python3"
    },
    "language_info": {
      "codemirror_mode": {
        "name": "ipython",
        "version": 3
      },
      "file_extension": ".py",
      "mimetype": "text/x-python",
      "name": "python",
      "nbconvert_exporter": "python",
      "pygments_lexer": "ipython3",
      "version": "3.11.5"
    }
  },
  "nbformat": 4,
  "nbformat_minor": 0
}
